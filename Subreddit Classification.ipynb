{
  "cells": [
    {
      "cell_type": "markdown",
      "metadata": {
        "id": "SqrpBxlL-VR8"
      },
      "source": [
        "## Please complete before submission:\n",
        "\n",
        "**Name:** SRISHTI BHAT\n",
        "\n",
        "**Student Number:** 2582332B"
      ]
    },
    {
      "cell_type": "markdown",
      "metadata": {
        "id": "SWZ4t4Ut91ur"
      },
      "source": [
        "# TextAs Data Coursework\n",
        "\n",
        "Please fill in this Google Colab by following the prompts from the coursework specification document and inserting your code in each relevant section.\n",
        "\n",
        "- You should submit this notebook together with your report. (Two separate files)\n",
        "- Specifcally you will submit **both a PDF with the report (so we can easily read it) and a .ipynb file containing the source code of your experiments as evidence**. Please do clean up your code where possible before submitting it.\n",
        "- You may add whatever additional code and text blocks as needed (perhaps with [nice formatting](https://colab.research.google.com/notebooks/markdown_guide.ipynb)). Please keep the major headings (for the question numbers) the same."
      ]
    },
    {
      "cell_type": "markdown",
      "metadata": {
        "id": "EstYvRPS_Crg"
      },
      "source": [
        "As with labs, please remember to **Save a Copy to Drive** when you start working on this so that it is saved. Completing the labs provides essential knowledge for the successful completion of the coursework. "
      ]
    },
    {
      "cell_type": "markdown",
      "metadata": {
        "id": "DyFYH3v7-ix0"
      },
      "source": [
        "## Downloading and loading Data\n",
        "\n",
        "This code loads the prepared split of the Reddit data into training, validation and testing set."
      ]
    },
    {
      "cell_type": "code",
      "execution_count": 166,
      "metadata": {
        "colab": {
          "base_uri": "https://localhost:8080/"
        },
        "id": "tG_zJqYH9sTd",
        "outputId": "cba6b5e6-ab81-479c-b1e5-a3a1c9d17018",
        "scrolled": true
      },
      "outputs": [
        {
          "output_type": "stream",
          "name": "stdout",
          "text": [
            "--2022-03-26 22:54:21--  https://gla-my.sharepoint.com/:u:/g/personal/jake_lever_glasgow_ac_uk/EapVNOIV84tPnQuuFBNgG9UBYIWipQ9JL4QTfSgRtIacBw?download=1\n",
            "Resolving gla-my.sharepoint.com (gla-my.sharepoint.com)... 13.107.136.9, 13.107.138.9\n",
            "Connecting to gla-my.sharepoint.com (gla-my.sharepoint.com)|13.107.136.9|:443... connected.\n",
            "HTTP request sent, awaiting response... 302 Found\n",
            "Location: /personal/jake_lever_glasgow_ac_uk/Documents/Teaching/reddit_data_split.zip [following]\n",
            "--2022-03-26 22:54:23--  https://gla-my.sharepoint.com/personal/jake_lever_glasgow_ac_uk/Documents/Teaching/reddit_data_split.zip\n",
            "Reusing existing connection to gla-my.sharepoint.com:443.\n",
            "HTTP request sent, awaiting response... 200 OK\n",
            "Length: 468327 (457K) [application/x-zip-compressed]\n",
            "Saving to: ‘reddit_data_split.zip’\n",
            "\n",
            "reddit_data_split.z 100%[===================>] 457.35K   409KB/s    in 1.1s    \n",
            "\n",
            "2022-03-26 22:54:24 (409 KB/s) - ‘reddit_data_split.zip’ saved [468327/468327]\n",
            "\n",
            "Archive:  reddit_data_split.zip\n",
            "  inflating: reddit_test.json        \n",
            "  inflating: reddit_train.json       \n",
            "  inflating: reddit_val.json         \n"
          ]
        }
      ],
      "source": [
        "!wget -O reddit_data_split.zip https://gla-my.sharepoint.com/:u:/g/personal/jake_lever_glasgow_ac_uk/EapVNOIV84tPnQuuFBNgG9UBYIWipQ9JL4QTfSgRtIacBw?download=1\n",
        "!unzip -o reddit_data_split.zip"
      ]
    },
    {
      "cell_type": "markdown",
      "metadata": {
        "id": "Zp_SJ-2iz9vl"
      },
      "source": [
        "Downloaded Data is divided into 3 sets of data\n",
        "1. Train Dataset\n",
        "2. Test Dataset\n",
        "3. Validation Dataset"
      ]
    },
    {
      "cell_type": "code",
      "execution_count": 167,
      "metadata": {
        "colab": {
          "base_uri": "https://localhost:8080/"
        },
        "id": "xCezGTgdRYkj",
        "outputId": "dee3fed1-656b-407c-d7e4-ff100d00b68b"
      },
      "outputs": [
        {
          "output_type": "stream",
          "name": "stdout",
          "text": [
            "Number of posts in training data: 1200\n",
            "Number of posts in validation data: 400\n",
            "Number of posts in test data: 400\n"
          ]
        }
      ],
      "source": [
        "import json\n",
        "\n",
        "with open('reddit_train.json') as f:\n",
        "    train_data = json.load(f)\n",
        "with open('reddit_val.json') as f:\n",
        "    validation_data = json.load(f)\n",
        "with open('reddit_test.json') as f:\n",
        "    test_data = json.load(f)\n",
        "\n",
        "print(\"Number of posts in training data:\", len(train_data))\n",
        "print(\"Number of posts in validation data:\", len(validation_data))\n",
        "print(\"Number of posts in test data:\", len(test_data))"
      ]
    },
    {
      "cell_type": "markdown",
      "metadata": {
        "id": "QH3Ibv5O6jKp"
      },
      "source": [
        "##  Importing Required Packages\n"
      ]
    },
    {
      "cell_type": "code",
      "execution_count": 168,
      "metadata": {
        "colab": {
          "base_uri": "https://localhost:8080/"
        },
        "id": "Q-677WyMjcU-",
        "outputId": "9dd6038b-8316-4e7d-ae73-7c3f44ee3e09"
      },
      "outputs": [
        {
          "output_type": "stream",
          "name": "stdout",
          "text": [
            "[nltk_data] Downloading package stopwords to /root/nltk_data...\n",
            "[nltk_data]   Package stopwords is already up-to-date!\n"
          ]
        }
      ],
      "source": [
        "#!pip install -U spacy\n",
        "from sklearn import metrics\n",
        "from sklearn.pipeline import Pipeline\n",
        "from sklearn.linear_model import LogisticRegression\n",
        "from sklearn.feature_extraction.text import CountVectorizer\n",
        "from sklearn.model_selection import GridSearchCV, train_test_split, cross_val_score\n",
        "from sklearn.metrics import confusion_matrix, classification_report\n",
        "from sklearn.naive_bayes import MultinomialNB\n",
        "from nltk.stem import WordNetLemmatizer\n",
        "from nltk.corpus import stopwords\n",
        "import spacy\n",
        "import requests\n",
        "import time\n",
        "import pandas as pd\n",
        "import nltk\n",
        "from nltk.stem import WordNetLemmatizer\n",
        "from nltk.tokenize import RegexpTokenizer\n",
        "from nltk.corpus.reader.knbc import test\n",
        "import pandas as pd\n",
        "\n",
        "# Load the medium english model. \n",
        "# We will use this model to get embedding features for tokens later.\n",
        "#!python -m spacy download en_core_web_md\n",
        "\n",
        "nlp = spacy.load('en_core_web_sm', disable=['ner'])\n",
        "nlp.remove_pipe('tagger')\n",
        "nlp.remove_pipe('parser')\n",
        "\n",
        "nltk.download('stopwords')\n",
        "stop_words = nltk.corpus.stopwords.words('english')\n"
      ]
    },
    {
      "cell_type": "markdown",
      "metadata": {
        "id": "3jlQ6J6h6jKt"
      },
      "source": [
        "## Exploratory Data Analysis"
      ]
    },
    {
      "cell_type": "markdown",
      "metadata": {
        "id": "YI5qU08h6jKu"
      },
      "source": [
        "### Cleaning/Pre-processing Data"
      ]
    },
    {
      "cell_type": "code",
      "execution_count": 169,
      "metadata": {
        "colab": {
          "base_uri": "https://localhost:8080/"
        },
        "id": "VSUmM7djTEIu",
        "outputId": "e611612e-4a62-4b46-bda9-bd44460888fa"
      },
      "outputs": [
        {
          "output_type": "stream",
          "name": "stdout",
          "text": [
            "Train - Null Entries:\n",
            "subreddit    0\n",
            "title        0\n",
            "score        0\n",
            "id           0\n",
            "author       0\n",
            "body         0\n",
            "dtype: int64\n",
            "Validation - Null Entries:\n",
            "subreddit    0\n",
            "title        0\n",
            "score        0\n",
            "id           0\n",
            "author       0\n",
            "body         0\n",
            "dtype: int64\n",
            "Test - Null Entries:\n",
            "subreddit    0\n",
            "title        0\n",
            "score        0\n",
            "id           0\n",
            "author       0\n",
            "body         0\n",
            "dtype: int64\n"
          ]
        }
      ],
      "source": [
        "\n",
        "#Respective dataframes are created for each dataset\n",
        "train_data = pd.DataFrame(train_data)\n",
        "validation_data = pd.DataFrame(validation_data)\n",
        "test_data = pd.DataFrame(test_data)\n",
        "\n",
        "#removed duplicate titles\n",
        "train_data.drop_duplicates(subset='title', inplace = True)\n",
        "validation_data.drop_duplicates(subset='title', inplace = True)\n",
        "test_data.drop_duplicates(subset='title', inplace = True)\n",
        "\n",
        "# Check for the Null Entries\n",
        "print(\"Train - Null Entries:\")\n",
        "print(train_data.isnull().sum())\n",
        "print(\"Validation - Null Entries:\")\n",
        "print(validation_data.isnull().sum())\n",
        "print(\"Test - Null Entries:\")\n",
        "print(test_data.isnull().sum())"
      ]
    },
    {
      "cell_type": "markdown",
      "metadata": {
        "id": "KwU2nAxL62wY"
      },
      "source": [
        "### Printing first few rows of the train dataset"
      ]
    },
    {
      "cell_type": "code",
      "execution_count": 170,
      "metadata": {
        "colab": {
          "base_uri": "https://localhost:8080/",
          "height": 206
        },
        "id": "oFZ61GiG98Nm",
        "outputId": "5af74846-4e9f-4a73-e3b5-f7b065e2f790"
      },
      "outputs": [
        {
          "output_type": "execute_result",
          "data": {
            "text/plain": [
              "        subreddit                                              title  score  \\\n",
              "0             PS4  Can I get banned for having a game that I didn...      0   \n",
              "1        pcgaming      How to get a Kinect sensor to work with a PC?      0   \n",
              "2  NintendoSwitch               Switch Only Charges with GoPro Cable      5   \n",
              "3         antiMLM                   L’Occitane going down MLM route?     15   \n",
              "4     HydroHomies                              Guys i need your help      2   \n",
              "\n",
              "       id           author                                               body  \n",
              "0  queqfu          XC-XERZ  Long story short, I saw ESO in my library, dow...  \n",
              "1  1eujoa      ZachTheKing  I have seen a video online where someone took ...  \n",
              "2  m00bx7  BluePenguin2002  Hi, hope this is the right place/way to post t...  \n",
              "3  q13pvx  100fluffyclouds  After buying a majority share in Limelight/Alc...  \n",
              "4  rxiv2g   Epicskeleton53  Is it ok for me to drink coffee in the morning...  "
            ],
            "text/html": [
              "\n",
              "  <div id=\"df-0657f233-1096-4e1a-9e44-d68589205d1a\">\n",
              "    <div class=\"colab-df-container\">\n",
              "      <div>\n",
              "<style scoped>\n",
              "    .dataframe tbody tr th:only-of-type {\n",
              "        vertical-align: middle;\n",
              "    }\n",
              "\n",
              "    .dataframe tbody tr th {\n",
              "        vertical-align: top;\n",
              "    }\n",
              "\n",
              "    .dataframe thead th {\n",
              "        text-align: right;\n",
              "    }\n",
              "</style>\n",
              "<table border=\"1\" class=\"dataframe\">\n",
              "  <thead>\n",
              "    <tr style=\"text-align: right;\">\n",
              "      <th></th>\n",
              "      <th>subreddit</th>\n",
              "      <th>title</th>\n",
              "      <th>score</th>\n",
              "      <th>id</th>\n",
              "      <th>author</th>\n",
              "      <th>body</th>\n",
              "    </tr>\n",
              "  </thead>\n",
              "  <tbody>\n",
              "    <tr>\n",
              "      <th>0</th>\n",
              "      <td>PS4</td>\n",
              "      <td>Can I get banned for having a game that I didn...</td>\n",
              "      <td>0</td>\n",
              "      <td>queqfu</td>\n",
              "      <td>XC-XERZ</td>\n",
              "      <td>Long story short, I saw ESO in my library, dow...</td>\n",
              "    </tr>\n",
              "    <tr>\n",
              "      <th>1</th>\n",
              "      <td>pcgaming</td>\n",
              "      <td>How to get a Kinect sensor to work with a PC?</td>\n",
              "      <td>0</td>\n",
              "      <td>1eujoa</td>\n",
              "      <td>ZachTheKing</td>\n",
              "      <td>I have seen a video online where someone took ...</td>\n",
              "    </tr>\n",
              "    <tr>\n",
              "      <th>2</th>\n",
              "      <td>NintendoSwitch</td>\n",
              "      <td>Switch Only Charges with GoPro Cable</td>\n",
              "      <td>5</td>\n",
              "      <td>m00bx7</td>\n",
              "      <td>BluePenguin2002</td>\n",
              "      <td>Hi, hope this is the right place/way to post t...</td>\n",
              "    </tr>\n",
              "    <tr>\n",
              "      <th>3</th>\n",
              "      <td>antiMLM</td>\n",
              "      <td>L’Occitane going down MLM route?</td>\n",
              "      <td>15</td>\n",
              "      <td>q13pvx</td>\n",
              "      <td>100fluffyclouds</td>\n",
              "      <td>After buying a majority share in Limelight/Alc...</td>\n",
              "    </tr>\n",
              "    <tr>\n",
              "      <th>4</th>\n",
              "      <td>HydroHomies</td>\n",
              "      <td>Guys i need your help</td>\n",
              "      <td>2</td>\n",
              "      <td>rxiv2g</td>\n",
              "      <td>Epicskeleton53</td>\n",
              "      <td>Is it ok for me to drink coffee in the morning...</td>\n",
              "    </tr>\n",
              "  </tbody>\n",
              "</table>\n",
              "</div>\n",
              "      <button class=\"colab-df-convert\" onclick=\"convertToInteractive('df-0657f233-1096-4e1a-9e44-d68589205d1a')\"\n",
              "              title=\"Convert this dataframe to an interactive table.\"\n",
              "              style=\"display:none;\">\n",
              "        \n",
              "  <svg xmlns=\"http://www.w3.org/2000/svg\" height=\"24px\"viewBox=\"0 0 24 24\"\n",
              "       width=\"24px\">\n",
              "    <path d=\"M0 0h24v24H0V0z\" fill=\"none\"/>\n",
              "    <path d=\"M18.56 5.44l.94 2.06.94-2.06 2.06-.94-2.06-.94-.94-2.06-.94 2.06-2.06.94zm-11 1L8.5 8.5l.94-2.06 2.06-.94-2.06-.94L8.5 2.5l-.94 2.06-2.06.94zm10 10l.94 2.06.94-2.06 2.06-.94-2.06-.94-.94-2.06-.94 2.06-2.06.94z\"/><path d=\"M17.41 7.96l-1.37-1.37c-.4-.4-.92-.59-1.43-.59-.52 0-1.04.2-1.43.59L10.3 9.45l-7.72 7.72c-.78.78-.78 2.05 0 2.83L4 21.41c.39.39.9.59 1.41.59.51 0 1.02-.2 1.41-.59l7.78-7.78 2.81-2.81c.8-.78.8-2.07 0-2.86zM5.41 20L4 18.59l7.72-7.72 1.47 1.35L5.41 20z\"/>\n",
              "  </svg>\n",
              "      </button>\n",
              "      \n",
              "  <style>\n",
              "    .colab-df-container {\n",
              "      display:flex;\n",
              "      flex-wrap:wrap;\n",
              "      gap: 12px;\n",
              "    }\n",
              "\n",
              "    .colab-df-convert {\n",
              "      background-color: #E8F0FE;\n",
              "      border: none;\n",
              "      border-radius: 50%;\n",
              "      cursor: pointer;\n",
              "      display: none;\n",
              "      fill: #1967D2;\n",
              "      height: 32px;\n",
              "      padding: 0 0 0 0;\n",
              "      width: 32px;\n",
              "    }\n",
              "\n",
              "    .colab-df-convert:hover {\n",
              "      background-color: #E2EBFA;\n",
              "      box-shadow: 0px 1px 2px rgba(60, 64, 67, 0.3), 0px 1px 3px 1px rgba(60, 64, 67, 0.15);\n",
              "      fill: #174EA6;\n",
              "    }\n",
              "\n",
              "    [theme=dark] .colab-df-convert {\n",
              "      background-color: #3B4455;\n",
              "      fill: #D2E3FC;\n",
              "    }\n",
              "\n",
              "    [theme=dark] .colab-df-convert:hover {\n",
              "      background-color: #434B5C;\n",
              "      box-shadow: 0px 1px 3px 1px rgba(0, 0, 0, 0.15);\n",
              "      filter: drop-shadow(0px 1px 2px rgba(0, 0, 0, 0.3));\n",
              "      fill: #FFFFFF;\n",
              "    }\n",
              "  </style>\n",
              "\n",
              "      <script>\n",
              "        const buttonEl =\n",
              "          document.querySelector('#df-0657f233-1096-4e1a-9e44-d68589205d1a button.colab-df-convert');\n",
              "        buttonEl.style.display =\n",
              "          google.colab.kernel.accessAllowed ? 'block' : 'none';\n",
              "\n",
              "        async function convertToInteractive(key) {\n",
              "          const element = document.querySelector('#df-0657f233-1096-4e1a-9e44-d68589205d1a');\n",
              "          const dataTable =\n",
              "            await google.colab.kernel.invokeFunction('convertToInteractive',\n",
              "                                                     [key], {});\n",
              "          if (!dataTable) return;\n",
              "\n",
              "          const docLinkHtml = 'Like what you see? Visit the ' +\n",
              "            '<a target=\"_blank\" href=https://colab.research.google.com/notebooks/data_table.ipynb>data table notebook</a>'\n",
              "            + ' to learn more about interactive tables.';\n",
              "          element.innerHTML = '';\n",
              "          dataTable['output_type'] = 'display_data';\n",
              "          await google.colab.output.renderOutput(dataTable, element);\n",
              "          const docLink = document.createElement('div');\n",
              "          docLink.innerHTML = docLinkHtml;\n",
              "          element.appendChild(docLink);\n",
              "        }\n",
              "      </script>\n",
              "    </div>\n",
              "  </div>\n",
              "  "
            ]
          },
          "metadata": {},
          "execution_count": 170
        }
      ],
      "source": [
        "train_data.head()"
      ]
    },
    {
      "cell_type": "markdown",
      "metadata": {
        "id": "gf7z2dhG7AOW"
      },
      "source": [
        "### Histogram of train Dataset"
      ]
    },
    {
      "cell_type": "code",
      "execution_count": 171,
      "metadata": {
        "colab": {
          "base_uri": "https://localhost:8080/",
          "height": 352
        },
        "id": "FPDY7bHICMAh",
        "outputId": "914c2395-ee11-44e3-8cd8-1f386cc09775"
      },
      "outputs": [
        {
          "output_type": "execute_result",
          "data": {
            "text/plain": [
              "<matplotlib.axes._subplots.AxesSubplot at 0x7ff39150fa10>"
            ]
          },
          "metadata": {},
          "execution_count": 171
        },
        {
          "output_type": "display_data",
          "data": {
            "text/plain": [
              "<Figure size 432x288 with 1 Axes>"
            ],
            "image/png": "[encoded data removed]"
          },
          "metadata": {
            "needs_background": "light"
          }
        }
      ],
      "source": [
        "train_data['subreddit'].value_counts().plot.bar()"
      ]
    },
    {
      "cell_type": "markdown",
      "source": [
        "### Histogram of Test Dataset"
      ],
      "metadata": {
        "id": "U-ILPX_D6Hgj"
      }
    },
    {
      "cell_type": "code",
      "source": [
        "test_data['subreddit'].value_counts().plot.bar()"
      ],
      "metadata": {
        "colab": {
          "base_uri": "https://localhost:8080/",
          "height": 352
        },
        "id": "QP7AQu5g6Aos",
        "outputId": "05886027-36b3-414e-f35f-7bb785042f8a"
      },
      "execution_count": 172,
      "outputs": [
        {
          "output_type": "execute_result",
          "data": {
            "text/plain": [
              "<matplotlib.axes._subplots.AxesSubplot at 0x7ff389835690>"
            ]
          },
          "metadata": {},
          "execution_count": 172
        },
        {
          "output_type": "display_data",
          "data": {
            "text/plain": [
              "<Figure size 432x288 with 1 Axes>"
            ],
            "image/png": "[encoded data removed]"
          },
          "metadata": {
            "needs_background": "light"
          }
        }
      ]
    },
    {
      "cell_type": "markdown",
      "source": [
        "### Histogram of Validation Dataset"
      ],
      "metadata": {
        "id": "RNYkoffP6RhB"
      }
    },
    {
      "cell_type": "code",
      "source": [
        "validation_data['subreddit'].value_counts().plot.bar()"
      ],
      "metadata": {
        "colab": {
          "base_uri": "https://localhost:8080/",
          "height": 352
        },
        "id": "xgixpabm6Vs9",
        "outputId": "e28249c2-1c83-4f96-8586-12bfd7e57bed"
      },
      "execution_count": 173,
      "outputs": [
        {
          "output_type": "execute_result",
          "data": {
            "text/plain": [
              "<matplotlib.axes._subplots.AxesSubplot at 0x7ff38b213950>"
            ]
          },
          "metadata": {},
          "execution_count": 173
        },
        {
          "output_type": "display_data",
          "data": {
            "text/plain": [
              "<Figure size 432x288 with 1 Axes>"
            ],
            "image/png": "[encoded data removed]"
          },
          "metadata": {
            "needs_background": "light"
          }
        }
      ]
    },
    {
      "cell_type": "markdown",
      "metadata": {
        "id": "bB0Ucg7z7YZA"
      },
      "source": [
        "### Mapping unique numbers to each subreddit label"
      ]
    },
    {
      "cell_type": "code",
      "execution_count": 174,
      "metadata": {
        "colab": {
          "base_uri": "https://localhost:8080/"
        },
        "id": "CYysqqq2f0ku",
        "outputId": "17d7b836-6954-4654-dfef-8842474aa116"
      },
      "outputs": [
        {
          "output_type": "stream",
          "name": "stdout",
          "text": [
            "['PS4' 'pcgaming' 'NintendoSwitch' 'antiMLM' 'HydroHomies' 'Coffee' 'xbox'\n",
            " 'Soda' 'tea']\n",
            "{'PS4': 0, 'pcgaming': 1, 'NintendoSwitch': 2, 'antiMLM': 3, 'HydroHomies': 4, 'Coffee': 5, 'xbox': 6, 'Soda': 7, 'tea': 8}\n",
            "{0: 'PS4', 1: 'pcgaming', 2: 'NintendoSwitch', 3: 'antiMLM', 4: 'HydroHomies', 5: 'Coffee', 6: 'xbox', 7: 'Soda', 8: 'tea'}\n"
          ]
        }
      ],
      "source": [
        "unique_labels = train_data.subreddit.unique()\n",
        "print(unique_labels)\n",
        "unique_labels_dict = {}\n",
        "unique_labels_rev_dict = {}\n",
        "\n",
        "for i,l in enumerate(unique_labels):\n",
        "  unique_labels_dict[l] = i\n",
        "  unique_labels_rev_dict[i] = l\n",
        "print(unique_labels_dict)\n",
        "print(unique_labels_rev_dict)"
      ]
    },
    {
      "cell_type": "code",
      "execution_count": 175,
      "metadata": {
        "id": "CndqUZFyFEfk"
      },
      "outputs": [],
      "source": [
        "train_data['labels'] = train_data['subreddit'].map(unique_labels_dict)\n",
        "validation_data['labels'] = validation_data['subreddit'].map(unique_labels_dict)\n",
        "test_data['labels'] = test_data['subreddit'].map(unique_labels_dict)\n",
        "\n",
        "#train_data"
      ]
    },
    {
      "cell_type": "code",
      "execution_count": 176,
      "metadata": {
        "colab": {
          "base_uri": "https://localhost:8080/",
          "height": 424
        },
        "id": "2cqGIlaTvp4G",
        "outputId": "5f590383-0653-4105-b103-fded62b3d6c3"
      },
      "outputs": [
        {
          "output_type": "execute_result",
          "data": {
            "text/plain": [
              "           subreddit                                              title  \\\n",
              "0                PS4  Can I get banned for having a game that I didn...   \n",
              "1           pcgaming      How to get a Kinect sensor to work with a PC?   \n",
              "2     NintendoSwitch               Switch Only Charges with GoPro Cable   \n",
              "3            antiMLM                   L’Occitane going down MLM route?   \n",
              "4        HydroHomies                              Guys i need your help   \n",
              "...              ...                                                ...   \n",
              "1195            xbox  I’m debating if I should get a PC or Xbox Seri...   \n",
              "1196          Coffee  Where can I buy several exotic or unique coffees?   \n",
              "1197             tea  What are some of y'all's favorite non-caffeina...   \n",
              "1198          Coffee            [Q] What pour over method should I try?   \n",
              "1199        pcgaming           Thoughts on the Asus G Series G5S3W-XN1?   \n",
              "\n",
              "      score      id            author  \\\n",
              "0         0  queqfu           XC-XERZ   \n",
              "1         0  1eujoa       ZachTheKing   \n",
              "2         5  m00bx7   BluePenguin2002   \n",
              "3        15  q13pvx   100fluffyclouds   \n",
              "4         2  rxiv2g    Epicskeleton53   \n",
              "...     ...     ...               ...   \n",
              "1195      2  m6a172          Matt3339   \n",
              "1196     10  3yvspn    victorlinguist   \n",
              "1197      5  bdlfo5    Bobthebanana73   \n",
              "1198      7  htwdo3  NorwegianWarlord   \n",
              "1199      6   iy1zg       aznegglover   \n",
              "\n",
              "                                                   body  labels  \n",
              "0     Long story short, I saw ESO in my library, dow...       0  \n",
              "1     I have seen a video online where someone took ...       1  \n",
              "2     Hi, hope this is the right place/way to post t...       2  \n",
              "3     After buying a majority share in Limelight/Alc...       3  \n",
              "4     Is it ok for me to drink coffee in the morning...       4  \n",
              "...                                                 ...     ...  \n",
              "1195  I do have some question as well.\\n1. Can the S...       6  \n",
              "1196  I am looking for an online place that will off...       5  \n",
              "1197  Due to medical reasons, I am currently not all...       8  \n",
              "1198  Hey all!\\nThe recent years I've learned to lov...       5  \n",
              "1199  http://www.newegg.com/Product/Product.aspx?Ite...       1  \n",
              "\n",
              "[1200 rows x 7 columns]"
            ],
            "text/html": [
              "\n",
              "  <div id=\"df-5bb8bc4b-1e66-4335-823e-9f1385b28890\">\n",
              "    <div class=\"colab-df-container\">\n",
              "      <div>\n",
              "<style scoped>\n",
              "    .dataframe tbody tr th:only-of-type {\n",
              "        vertical-align: middle;\n",
              "    }\n",
              "\n",
              "    .dataframe tbody tr th {\n",
              "        vertical-align: top;\n",
              "    }\n",
              "\n",
              "    .dataframe thead th {\n",
              "        text-align: right;\n",
              "    }\n",
              "</style>\n",
              "<table border=\"1\" class=\"dataframe\">\n",
              "  <thead>\n",
              "    <tr style=\"text-align: right;\">\n",
              "      <th></th>\n",
              "      <th>subreddit</th>\n",
              "      <th>title</th>\n",
              "      <th>score</th>\n",
              "      <th>id</th>\n",
              "      <th>author</th>\n",
              "      <th>body</th>\n",
              "      <th>labels</th>\n",
              "    </tr>\n",
              "  </thead>\n",
              "  <tbody>\n",
              "    <tr>\n",
              "      <th>0</th>\n",
              "      <td>PS4</td>\n",
              "      <td>Can I get banned for having a game that I didn...</td>\n",
              "      <td>0</td>\n",
              "      <td>queqfu</td>\n",
              "      <td>XC-XERZ</td>\n",
              "      <td>Long story short, I saw ESO in my library, dow...</td>\n",
              "      <td>0</td>\n",
              "    </tr>\n",
              "    <tr>\n",
              "      <th>1</th>\n",
              "      <td>pcgaming</td>\n",
              "      <td>How to get a Kinect sensor to work with a PC?</td>\n",
              "      <td>0</td>\n",
              "      <td>1eujoa</td>\n",
              "      <td>ZachTheKing</td>\n",
              "      <td>I have seen a video online where someone took ...</td>\n",
              "      <td>1</td>\n",
              "    </tr>\n",
              "    <tr>\n",
              "      <th>2</th>\n",
              "      <td>NintendoSwitch</td>\n",
              "      <td>Switch Only Charges with GoPro Cable</td>\n",
              "      <td>5</td>\n",
              "      <td>m00bx7</td>\n",
              "      <td>BluePenguin2002</td>\n",
              "      <td>Hi, hope this is the right place/way to post t...</td>\n",
              "      <td>2</td>\n",
              "    </tr>\n",
              "    <tr>\n",
              "      <th>3</th>\n",
              "      <td>antiMLM</td>\n",
              "      <td>L’Occitane going down MLM route?</td>\n",
              "      <td>15</td>\n",
              "      <td>q13pvx</td>\n",
              "      <td>100fluffyclouds</td>\n",
              "      <td>After buying a majority share in Limelight/Alc...</td>\n",
              "      <td>3</td>\n",
              "    </tr>\n",
              "    <tr>\n",
              "      <th>4</th>\n",
              "      <td>HydroHomies</td>\n",
              "      <td>Guys i need your help</td>\n",
              "      <td>2</td>\n",
              "      <td>rxiv2g</td>\n",
              "      <td>Epicskeleton53</td>\n",
              "      <td>Is it ok for me to drink coffee in the morning...</td>\n",
              "      <td>4</td>\n",
              "    </tr>\n",
              "    <tr>\n",
              "      <th>...</th>\n",
              "      <td>...</td>\n",
              "      <td>...</td>\n",
              "      <td>...</td>\n",
              "      <td>...</td>\n",
              "      <td>...</td>\n",
              "      <td>...</td>\n",
              "      <td>...</td>\n",
              "    </tr>\n",
              "    <tr>\n",
              "      <th>1195</th>\n",
              "      <td>xbox</td>\n",
              "      <td>I’m debating if I should get a PC or Xbox Seri...</td>\n",
              "      <td>2</td>\n",
              "      <td>m6a172</td>\n",
              "      <td>Matt3339</td>\n",
              "      <td>I do have some question as well.\\n1. Can the S...</td>\n",
              "      <td>6</td>\n",
              "    </tr>\n",
              "    <tr>\n",
              "      <th>1196</th>\n",
              "      <td>Coffee</td>\n",
              "      <td>Where can I buy several exotic or unique coffees?</td>\n",
              "      <td>10</td>\n",
              "      <td>3yvspn</td>\n",
              "      <td>victorlinguist</td>\n",
              "      <td>I am looking for an online place that will off...</td>\n",
              "      <td>5</td>\n",
              "    </tr>\n",
              "    <tr>\n",
              "      <th>1197</th>\n",
              "      <td>tea</td>\n",
              "      <td>What are some of y'all's favorite non-caffeina...</td>\n",
              "      <td>5</td>\n",
              "      <td>bdlfo5</td>\n",
              "      <td>Bobthebanana73</td>\n",
              "      <td>Due to medical reasons, I am currently not all...</td>\n",
              "      <td>8</td>\n",
              "    </tr>\n",
              "    <tr>\n",
              "      <th>1198</th>\n",
              "      <td>Coffee</td>\n",
              "      <td>[Q] What pour over method should I try?</td>\n",
              "      <td>7</td>\n",
              "      <td>htwdo3</td>\n",
              "      <td>NorwegianWarlord</td>\n",
              "      <td>Hey all!\\nThe recent years I've learned to lov...</td>\n",
              "      <td>5</td>\n",
              "    </tr>\n",
              "    <tr>\n",
              "      <th>1199</th>\n",
              "      <td>pcgaming</td>\n",
              "      <td>Thoughts on the Asus G Series G5S3W-XN1?</td>\n",
              "      <td>6</td>\n",
              "      <td>iy1zg</td>\n",
              "      <td>aznegglover</td>\n",
              "      <td>http://www.newegg.com/Product/Product.aspx?Ite...</td>\n",
              "      <td>1</td>\n",
              "    </tr>\n",
              "  </tbody>\n",
              "</table>\n",
              "<p>1200 rows × 7 columns</p>\n",
              "</div>\n",
              "      <button class=\"colab-df-convert\" onclick=\"convertToInteractive('df-5bb8bc4b-1e66-4335-823e-9f1385b28890')\"\n",
              "              title=\"Convert this dataframe to an interactive table.\"\n",
              "              style=\"display:none;\">\n",
              "        \n",
              "  <svg xmlns=\"http://www.w3.org/2000/svg\" height=\"24px\"viewBox=\"0 0 24 24\"\n",
              "       width=\"24px\">\n",
              "    <path d=\"M0 0h24v24H0V0z\" fill=\"none\"/>\n",
              "    <path d=\"M18.56 5.44l.94 2.06.94-2.06 2.06-.94-2.06-.94-.94-2.06-.94 2.06-2.06.94zm-11 1L8.5 8.5l.94-2.06 2.06-.94-2.06-.94L8.5 2.5l-.94 2.06-2.06.94zm10 10l.94 2.06.94-2.06 2.06-.94-2.06-.94-.94-2.06-.94 2.06-2.06.94z\"/><path d=\"M17.41 7.96l-1.37-1.37c-.4-.4-.92-.59-1.43-.59-.52 0-1.04.2-1.43.59L10.3 9.45l-7.72 7.72c-.78.78-.78 2.05 0 2.83L4 21.41c.39.39.9.59 1.41.59.51 0 1.02-.2 1.41-.59l7.78-7.78 2.81-2.81c.8-.78.8-2.07 0-2.86zM5.41 20L4 18.59l7.72-7.72 1.47 1.35L5.41 20z\"/>\n",
              "  </svg>\n",
              "      </button>\n",
              "      \n",
              "  <style>\n",
              "    .colab-df-container {\n",
              "      display:flex;\n",
              "      flex-wrap:wrap;\n",
              "      gap: 12px;\n",
              "    }\n",
              "\n",
              "    .colab-df-convert {\n",
              "      background-color: #E8F0FE;\n",
              "      border: none;\n",
              "      border-radius: 50%;\n",
              "      cursor: pointer;\n",
              "      display: none;\n",
              "      fill: #1967D2;\n",
              "      height: 32px;\n",
              "      padding: 0 0 0 0;\n",
              "      width: 32px;\n",
              "    }\n",
              "\n",
              "    .colab-df-convert:hover {\n",
              "      background-color: #E2EBFA;\n",
              "      box-shadow: 0px 1px 2px rgba(60, 64, 67, 0.3), 0px 1px 3px 1px rgba(60, 64, 67, 0.15);\n",
              "      fill: #174EA6;\n",
              "    }\n",
              "\n",
              "    [theme=dark] .colab-df-convert {\n",
              "      background-color: #3B4455;\n",
              "      fill: #D2E3FC;\n",
              "    }\n",
              "\n",
              "    [theme=dark] .colab-df-convert:hover {\n",
              "      background-color: #434B5C;\n",
              "      box-shadow: 0px 1px 3px 1px rgba(0, 0, 0, 0.15);\n",
              "      filter: drop-shadow(0px 1px 2px rgba(0, 0, 0, 0.3));\n",
              "      fill: #FFFFFF;\n",
              "    }\n",
              "  </style>\n",
              "\n",
              "      <script>\n",
              "        const buttonEl =\n",
              "          document.querySelector('#df-5bb8bc4b-1e66-4335-823e-9f1385b28890 button.colab-df-convert');\n",
              "        buttonEl.style.display =\n",
              "          google.colab.kernel.accessAllowed ? 'block' : 'none';\n",
              "\n",
              "        async function convertToInteractive(key) {\n",
              "          const element = document.querySelector('#df-5bb8bc4b-1e66-4335-823e-9f1385b28890');\n",
              "          const dataTable =\n",
              "            await google.colab.kernel.invokeFunction('convertToInteractive',\n",
              "                                                     [key], {});\n",
              "          if (!dataTable) return;\n",
              "\n",
              "          const docLinkHtml = 'Like what you see? Visit the ' +\n",
              "            '<a target=\"_blank\" href=https://colab.research.google.com/notebooks/data_table.ipynb>data table notebook</a>'\n",
              "            + ' to learn more about interactive tables.';\n",
              "          element.innerHTML = '';\n",
              "          dataTable['output_type'] = 'display_data';\n",
              "          await google.colab.output.renderOutput(dataTable, element);\n",
              "          const docLink = document.createElement('div');\n",
              "          docLink.innerHTML = docLinkHtml;\n",
              "          element.appendChild(docLink);\n",
              "        }\n",
              "      </script>\n",
              "    </div>\n",
              "  </div>\n",
              "  "
            ]
          },
          "metadata": {},
          "execution_count": 176
        }
      ],
      "source": [
        "train_data"
      ]
    },
    {
      "cell_type": "markdown",
      "metadata": {
        "id": "U4Cg8uLR7sOr"
      },
      "source": [
        "### Splitting Train, Test and Validation datasets to X and Y\n",
        "\n",
        "Here X would be body, and Y would be the subreddit we are trying to predict/classify"
      ]
    },
    {
      "cell_type": "code",
      "execution_count": 177,
      "metadata": {
        "id": "CHCv0ZUD8ab0"
      },
      "outputs": [],
      "source": [
        "X_train = train_data['body']\n",
        "Y_train = train_data['labels']\n",
        "\n",
        "X_val = validation_data['body']\n",
        "Y_val = validation_data['labels']\n",
        "\n",
        "X_test = test_data['body']\n",
        "Y_test = test_data['labels']"
      ]
    },
    {
      "cell_type": "markdown",
      "metadata": {
        "id": "JPwChU-s8Fwi"
      },
      "source": [
        "### A function to Tokenize text"
      ]
    },
    {
      "cell_type": "code",
      "execution_count": 178,
      "metadata": {
        "id": "UKZoI5ZChFx5"
      },
      "outputs": [],
      "source": [
        "def text_pipeline_spacy(text):\n",
        "    tokens = []\n",
        "    doc = nlp(text)\n",
        "    for t in doc:\n",
        "        if not t.is_stop and not t.is_punct and not t.is_space and t.lemma_.isalnum():\n",
        "            tokens.append(t.lemma_.lower())\n",
        "    tokens = ' '.join([char for char in tokens])\n",
        "    return tokens\n"
      ]
    },
    {
      "cell_type": "markdown",
      "metadata": {
        "id": "cOP0_sMF8PtQ"
      },
      "source": [
        "The posts in each subreddit is tokenized"
      ]
    },
    {
      "cell_type": "code",
      "execution_count": 179,
      "metadata": {
        "colab": {
          "base_uri": "https://localhost:8080/"
        },
        "id": "JDUd2B3coyu7",
        "outputId": "6e12fac5-4bb9-4334-a753-19a58b97e200"
      },
      "outputs": [
        {
          "output_type": "execute_result",
          "data": {
            "text/plain": [
              "['long story short see eso library download let play think free trial go sure buy game',\n",
              " 'see video online take kinect control character garry mod love know like game pc kinect sensor work',\n",
              " 'hi hope right place way post try use portable 12w 5v mu charger charge switch work great charge switch play quickly sleep mode work gopro usb c cable nintendo pro controller usb c cable purchase anker barely provide power wall adapter barely charge switch sleep mode discharge normal rate play idea case gopro cable short inconvenient play charge want find long cable charge switch properly thank help',\n",
              " 'buy majority share limelight alcone go mlm route scroll news item',\n",
              " 'okay drink coffee morning drink good water okay']"
            ]
          },
          "metadata": {},
          "execution_count": 179
        }
      ],
      "source": [
        "X_train_tokenized = [ text_pipeline_spacy(x) for x in X_train ]\n",
        "X_train_tokenized[0:5]"
      ]
    },
    {
      "cell_type": "markdown",
      "metadata": {
        "id": "7txBmrCG_tKr"
      },
      "source": [
        "## Q1:\n",
        "\n",
        "Use the text from the reddit posts (known as “body”) to train classification models using the Scikit Learn package. The labels to predict are the subreddit for each post. Conduct experiments using the following combinations of classifier models and feature representations:\n",
        "1. Dummy Classifier with strategy=\"most_frequent\"\n",
        "2. Dummy Classifier with strategy=\"stratified\"\n",
        "3. LogisticRegression with One-hot vectorization \n",
        "4. LogisticRegression with TF-IDF vectorization (default settings)\n",
        "5. SVC Classifier with  One-hot vectorization (SVM with RBF kernel, default settings))\n"
      ]
    },
    {
      "cell_type": "markdown",
      "metadata": {
        "id": "z-mwlU6j6jK7"
      },
      "source": [
        "### Importing Required Packages"
      ]
    },
    {
      "cell_type": "code",
      "execution_count": 180,
      "metadata": {
        "id": "iuF14A_SNDmX"
      },
      "outputs": [],
      "source": [
        "from sklearn.feature_extraction.text import TfidfVectorizer\n",
        "from sklearn.feature_extraction.text import CountVectorizer\n",
        "\n",
        "from sklearn.linear_model import LogisticRegression\n",
        "from sklearn.dummy import DummyClassifier\n",
        "from sklearn.svm import SVC\n",
        "from sklearn.naive_bayes import GaussianNB\n",
        "\n",
        "from sklearn.metrics import classification_report\n",
        "from sklearn.metrics import accuracy_score, precision_score, recall_score, f1_score"
      ]
    },
    {
      "cell_type": "markdown",
      "metadata": {
        "id": "bfcEpK0s-hCX"
      },
      "source": [
        "### Transforming given text to Vectors based on the count of each word that occurs in the entire text"
      ]
    },
    {
      "cell_type": "code",
      "execution_count": 181,
      "metadata": {
        "id": "TDIkMA8k7ySn"
      },
      "outputs": [],
      "source": [
        "OH_transformer = CountVectorizer() #creates vectors on the basis of frequency of the occurence term\n",
        "OH_transformer.fit(X_train_tokenized)\n",
        "\n",
        "OHV_train = OH_transformer.transform(X_train)\n",
        "OHV_test = OH_transformer.transform(X_test)\n",
        "OHV_valid = OH_transformer.transform(X_val)"
      ]
    },
    {
      "cell_type": "markdown",
      "metadata": {
        "id": "pWj3L4Ex_X7N"
      },
      "source": [
        "### Transforming given text to Vectors based on the TF-IDF weights"
      ]
    },
    {
      "cell_type": "code",
      "execution_count": 182,
      "metadata": {
        "id": "8c2uIUhD_r_t"
      },
      "outputs": [],
      "source": [
        "tfidf_transformer = TfidfVectorizer() #creates vectors on the basis of TF-IDF\n",
        "tfidf_transformer.fit(X_train_tokenized)\n",
        "\n",
        "tfidf_vec_train = tfidf_transformer.transform(X_train)\n",
        "tfidf_vec_test = tfidf_transformer.transform(X_test)\n",
        "tfidf_vec_valid = tfidf_transformer.transform(X_val)"
      ]
    },
    {
      "cell_type": "markdown",
      "metadata": {
        "id": "iK9u5izk_wSh"
      },
      "source": [
        "### Q1a:\n",
        "An important first step for any machine learning project is to explore the dataset. Calculate counts for the various\n",
        "labels and comment on the distribution of labels in the training/validation/test sets"
      ]
    },
    {
      "cell_type": "markdown",
      "metadata": {
        "id": "3sKAtszC_iFT"
      },
      "source": [
        "### Count of posts per subreddit for different datasets"
      ]
    },
    {
      "cell_type": "code",
      "execution_count": 183,
      "metadata": {
        "colab": {
          "base_uri": "https://localhost:8080/",
          "height": 352
        },
        "id": "_J90sKG2HDoD",
        "outputId": "25e1c153-baa0-4ca0-ff6c-9588b636b0b8"
      },
      "outputs": [
        {
          "output_type": "execute_result",
          "data": {
            "text/plain": [
              "<matplotlib.axes._subplots.AxesSubplot at 0x7ff38945afd0>"
            ]
          },
          "metadata": {},
          "execution_count": 183
        },
        {
          "output_type": "display_data",
          "data": {
            "text/plain": [
              "<Figure size 432x288 with 1 Axes>"
            ],
            "image/png": "[encoded data removed]"
          },
          "metadata": {
            "needs_background": "light"
          }
        }
      ],
      "source": [
        "train_data['subreddit'].value_counts().plot.bar()"
      ]
    },
    {
      "cell_type": "code",
      "execution_count": 184,
      "metadata": {
        "colab": {
          "base_uri": "https://localhost:8080/",
          "height": 352
        },
        "id": "22OryawKq0nl",
        "outputId": "d433e1d8-4820-4dba-ccb9-cb0d94b53fb6"
      },
      "outputs": [
        {
          "output_type": "execute_result",
          "data": {
            "text/plain": [
              "<matplotlib.axes._subplots.AxesSubplot at 0x7ff38ccf1950>"
            ]
          },
          "metadata": {},
          "execution_count": 184
        },
        {
          "output_type": "display_data",
          "data": {
            "text/plain": [
              "<Figure size 432x288 with 1 Axes>"
            ],
            "image/png": "[encoded data removed]"
          },
          "metadata": {
            "needs_background": "light"
          }
        }
      ],
      "source": [
        "test_data['subreddit'].value_counts().plot.bar()"
      ]
    },
    {
      "cell_type": "code",
      "execution_count": 185,
      "metadata": {
        "colab": {
          "base_uri": "https://localhost:8080/",
          "height": 352
        },
        "id": "KVLnOvzJq-kM",
        "outputId": "607ff17b-6125-4097-b976-45e2b50c9926"
      },
      "outputs": [
        {
          "output_type": "execute_result",
          "data": {
            "text/plain": [
              "<matplotlib.axes._subplots.AxesSubplot at 0x7ff38b3b85d0>"
            ]
          },
          "metadata": {},
          "execution_count": 185
        },
        {
          "output_type": "display_data",
          "data": {
            "text/plain": [
              "<Figure size 432x288 with 1 Axes>"
            ],
            "image/png": "[encoded data removed]"
          },
          "metadata": {
            "needs_background": "light"
          }
        }
      ],
      "source": [
        "validation_data['subreddit'].value_counts().plot.bar()"
      ]
    },
    {
      "cell_type": "code",
      "execution_count": 186,
      "metadata": {
        "colab": {
          "base_uri": "https://localhost:8080/"
        },
        "id": "oEcG4KkHDIL7",
        "outputId": "8420117f-a829-40f7-b1ed-704f87aad003"
      },
      "outputs": [
        {
          "output_type": "execute_result",
          "data": {
            "text/plain": [
              "tea               146\n",
              "NintendoSwitch    145\n",
              "PS4               142\n",
              "Coffee            136\n",
              "pcgaming          135\n",
              "HydroHomies       134\n",
              "xbox              132\n",
              "antiMLM           128\n",
              "Soda              102\n",
              "Name: subreddit, dtype: int64"
            ]
          },
          "metadata": {},
          "execution_count": 186
        }
      ],
      "source": [
        "train_data\n",
        "subreddit = train_data.subreddit.unique().tolist()\n",
        "df_subr = train_data['subreddit'].value_counts()\n",
        "df_subr.to_frame()\n",
        "df_subr"
      ]
    },
    {
      "cell_type": "code",
      "execution_count": 187,
      "metadata": {
        "colab": {
          "base_uri": "https://localhost:8080/"
        },
        "id": "MJYEldkTEGTz",
        "outputId": "83b7b393-b82d-4878-9424-2516a5bc881a"
      },
      "outputs": [
        {
          "output_type": "execute_result",
          "data": {
            "text/plain": [
              "Coffee            56\n",
              "NintendoSwitch    52\n",
              "PS4               48\n",
              "pcgaming          47\n",
              "xbox              44\n",
              "antiMLM           44\n",
              "tea               42\n",
              "HydroHomies       38\n",
              "Soda              29\n",
              "Name: subreddit, dtype: int64"
            ]
          },
          "metadata": {},
          "execution_count": 187
        }
      ],
      "source": [
        "test_data\n",
        "subreddit = test_data.subreddit.unique().tolist()\n",
        "df_subr_t = test_data['subreddit'].value_counts()\n",
        "df_subr_t.to_frame()\n",
        "df_subr_t"
      ]
    },
    {
      "cell_type": "code",
      "execution_count": 188,
      "metadata": {
        "colab": {
          "base_uri": "https://localhost:8080/"
        },
        "id": "F4yNasVQEhIw",
        "outputId": "0cd98bc0-9020-47f1-9321-91bde869fd0b"
      },
      "outputs": [
        {
          "output_type": "execute_result",
          "data": {
            "text/plain": [
              "antiMLM           54\n",
              "NintendoSwitch    52\n",
              "tea               48\n",
              "Soda              43\n",
              "PS4               43\n",
              "pcgaming          43\n",
              "Coffee            42\n",
              "HydroHomies       38\n",
              "xbox              37\n",
              "Name: subreddit, dtype: int64"
            ]
          },
          "metadata": {},
          "execution_count": 188
        }
      ],
      "source": [
        "subreddit = validation_data.subreddit.unique().tolist()\n",
        "df_subr_v = validation_data['subreddit'].value_counts()\n",
        "df_subr_v.to_frame()\n",
        "df_subr_v"
      ]
    },
    {
      "cell_type": "markdown",
      "metadata": {
        "id": "TQaSIxai_8dQ"
      },
      "source": [
        "### Q1b:\n",
        "Implement the five classifiers above, train them on the training set and evaluate on the test set. Discuss the classifier performance in comparison to the others and preprocessing techniques.\n",
        "\n",
        "For the above classifiers report the classifier accuracy as well as macro/weighted-averaged precision, recall, and F1 (to three decimal places). Show the overall results  obtained by the classifiers on the training and test sets in one table, and highlight the best performance. For the best performing classifier (by weighted F1 in test set) Include a bar chart graph with the F1 score for each class - (subreddits on x-axis, F1 score on Y axis).\n",
        "Analyse and discuss the effectiveness of the classifiers. Your discussion should include how the models perform relative to the baselines and each other. It should discuss the classifiers’ behaviours with respect to: \n",
        "1. Appropriate model “fit” (how well is the model fit to the training/test dataset),\n",
        "2. Dataset considerations (e.g. how are labels distributed, any other dataset issues?)\n",
        "3. Classifier models (and their key parameters).\n"
      ]
    },
    {
      "cell_type": "code",
      "execution_count": 189,
      "metadata": {
        "id": "sFXIba2T2Zpn"
      },
      "outputs": [],
      "source": [
        "classifier_scores = pd.DataFrame(columns=['classifier', 'accuracy', 'precision', 'recall', 'f1_score'])"
      ]
    },
    {
      "cell_type": "markdown",
      "metadata": {
        "id": "Fv5HlH2Rs1SH"
      },
      "source": [
        "## Dummy Classifier \n",
        "\n",
        "with  strategy most_frequent"
      ]
    },
    {
      "cell_type": "code",
      "execution_count": 190,
      "metadata": {
        "colab": {
          "base_uri": "https://localhost:8080/"
        },
        "id": "OCoUgSHOxAF6",
        "outputId": "0590a9ef-b719-4dde-e6f3-a3d5e44eb651"
      },
      "outputs": [
        {
          "output_type": "stream",
          "name": "stdout",
          "text": [
            "              precision    recall  f1-score   support\n",
            "\n",
            "           0       0.00      0.00      0.00        48\n",
            "           1       0.00      0.00      0.00        47\n",
            "           2       0.00      0.00      0.00        52\n",
            "           3       0.00      0.00      0.00        44\n",
            "           4       0.00      0.00      0.00        38\n",
            "           5       0.00      0.00      0.00        56\n",
            "           6       0.00      0.00      0.00        44\n",
            "           7       0.00      0.00      0.00        29\n",
            "           8       0.10      1.00      0.19        42\n",
            "\n",
            "    accuracy                           0.10       400\n",
            "   macro avg       0.01      0.11      0.02       400\n",
            "weighted avg       0.01      0.10      0.02       400\n",
            "\n"
          ]
        },
        {
          "output_type": "stream",
          "name": "stderr",
          "text": [
            "/usr/local/lib/python3.7/dist-packages/sklearn/metrics/_classification.py:1318: UndefinedMetricWarning: Precision and F-score are ill-defined and being set to 0.0 in labels with no predicted samples. Use `zero_division` parameter to control this behavior.\n",
            "  _warn_prf(average, modifier, msg_start, len(result))\n",
            "/usr/local/lib/python3.7/dist-packages/sklearn/metrics/_classification.py:1318: UndefinedMetricWarning: Precision and F-score are ill-defined and being set to 0.0 in labels with no predicted samples. Use `zero_division` parameter to control this behavior.\n",
            "  _warn_prf(average, modifier, msg_start, len(result))\n",
            "/usr/local/lib/python3.7/dist-packages/sklearn/metrics/_classification.py:1318: UndefinedMetricWarning: Precision and F-score are ill-defined and being set to 0.0 in labels with no predicted samples. Use `zero_division` parameter to control this behavior.\n",
            "  _warn_prf(average, modifier, msg_start, len(result))\n",
            "/usr/local/lib/python3.7/dist-packages/sklearn/metrics/_classification.py:1318: UndefinedMetricWarning: Precision is ill-defined and being set to 0.0 in labels with no predicted samples. Use `zero_division` parameter to control this behavior.\n",
            "  _warn_prf(average, modifier, msg_start, len(result))\n"
          ]
        }
      ],
      "source": [
        "dummy_mf_model = DummyClassifier(strategy='most_frequent')\n",
        "dummy_mf_model.fit(OHV_train, Y_train)\n",
        "preds = dummy_mf_model.predict(OHV_test)\n",
        "print(classification_report(Y_test, preds))\n",
        "\n",
        "\n",
        "classifier_scores = classifier_scores.append({'classifier' : 'Dummy_classifier_Most_frequent',\n",
        "                          'accuracy' : accuracy_score(Y_test, preds),\n",
        "                          'precision' : precision_score(Y_test, preds, average='weighted'),\n",
        "                          'recall' : recall_score(Y_test, preds, average='weighted'),\n",
        "                          'f1_score' : f1_score(Y_test, preds, average='weighted')}, ignore_index=True)"
      ]
    },
    {
      "cell_type": "markdown",
      "metadata": {
        "id": "vbsLeueOvIRj"
      },
      "source": [
        "## Dummy Classifier \n",
        "\n",
        "with  strategy stratified"
      ]
    },
    {
      "cell_type": "code",
      "execution_count": 191,
      "metadata": {
        "colab": {
          "base_uri": "https://localhost:8080/"
        },
        "id": "xDNZorRzxubT",
        "outputId": "d534e02c-b314-45e0-c1d3-4fa49054f24c"
      },
      "outputs": [
        {
          "output_type": "stream",
          "name": "stdout",
          "text": [
            "              precision    recall  f1-score   support\n",
            "\n",
            "           0       0.15      0.17      0.16        48\n",
            "           1       0.19      0.17      0.18        47\n",
            "           2       0.08      0.08      0.08        52\n",
            "           3       0.13      0.16      0.15        44\n",
            "           4       0.12      0.18      0.15        38\n",
            "           5       0.10      0.05      0.07        56\n",
            "           6       0.16      0.16      0.16        44\n",
            "           7       0.05      0.03      0.04        29\n",
            "           8       0.13      0.17      0.15        42\n",
            "\n",
            "    accuracy                           0.13       400\n",
            "   macro avg       0.12      0.13      0.13       400\n",
            "weighted avg       0.13      0.13      0.13       400\n",
            "\n"
          ]
        }
      ],
      "source": [
        "dummy_mf_model = DummyClassifier(strategy='stratified')\n",
        "dummy_mf_model.fit(OHV_train, Y_train)\n",
        "preds = dummy_mf_model.predict(OHV_test)\n",
        "print(classification_report(Y_test, preds))\n",
        "\n",
        "classifier_scores = classifier_scores.append({'classifier' : 'Dummy_classifier_stratified',\n",
        "                          'accuracy' : accuracy_score(Y_test, preds),\n",
        "                          'precision' : precision_score(Y_test, preds, average='weighted'),\n",
        "                          'recall' : recall_score(Y_test, preds, average='weighted'),\n",
        "                          'f1_score' : f1_score(Y_test, preds, average='weighted')}, ignore_index=True)"
      ]
    },
    {
      "cell_type": "markdown",
      "metadata": {
        "id": "wbose6hYvMuj"
      },
      "source": [
        "## Logistic Regression\n",
        "\n",
        "with one-hot Vectorization"
      ]
    },
    {
      "cell_type": "code",
      "execution_count": 192,
      "metadata": {
        "colab": {
          "base_uri": "https://localhost:8080/"
        },
        "id": "sPpzVWdHz0C2",
        "outputId": "950f5b85-6cbd-4b28-957e-a8b03a966b73"
      },
      "outputs": [
        {
          "output_type": "stream",
          "name": "stdout",
          "text": [
            "              precision    recall  f1-score   support\n",
            "\n",
            "           0       0.52      0.65      0.57        48\n",
            "           1       0.66      0.57      0.61        47\n",
            "           2       0.82      0.71      0.76        52\n",
            "           3       0.83      0.68      0.75        44\n",
            "           4       0.79      0.89      0.84        38\n",
            "           5       0.79      0.80      0.80        56\n",
            "           6       0.73      0.68      0.71        44\n",
            "           7       0.65      0.83      0.73        29\n",
            "           8       0.93      0.88      0.90        42\n",
            "\n",
            "    accuracy                           0.74       400\n",
            "   macro avg       0.75      0.74      0.74       400\n",
            "weighted avg       0.75      0.74      0.74       400\n",
            "\n"
          ]
        }
      ],
      "source": [
        "lr_model_OHV = LogisticRegression(max_iter = 1000)\n",
        "lr_model_OHV.fit(OHV_train, Y_train)\n",
        "preds = lr_model_OHV.predict(OHV_test)\n",
        "print(classification_report(Y_test, preds))\n",
        "\n",
        "classifier_scores = classifier_scores.append({'classifier' : 'LogisticRegression - One Hot Vector',\n",
        "                          'accuracy' : accuracy_score(Y_test, preds),\n",
        "                          'precision' : precision_score(Y_test, preds, average='weighted'),\n",
        "                          'recall' : recall_score(Y_test, preds, average='weighted'),\n",
        "                          'f1_score' : f1_score(Y_test, preds, average='weighted')}, ignore_index=True)"
      ]
    },
    {
      "cell_type": "markdown",
      "metadata": {
        "id": "AdpC7dJuvkYw"
      },
      "source": [
        "## Logistic Regression\n",
        "\n",
        "with TF-IDF Vectorization"
      ]
    },
    {
      "cell_type": "code",
      "execution_count": 193,
      "metadata": {
        "colab": {
          "base_uri": "https://localhost:8080/"
        },
        "id": "lamhKHCC0qHe",
        "outputId": "59c2e39b-a8b8-4c54-a62f-fd203c2633bd"
      },
      "outputs": [
        {
          "output_type": "stream",
          "name": "stdout",
          "text": [
            "              precision    recall  f1-score   support\n",
            "\n",
            "           0       0.53      0.56      0.55        48\n",
            "           1       0.60      0.55      0.58        47\n",
            "           2       0.66      0.73      0.69        52\n",
            "           3       0.67      0.84      0.75        44\n",
            "           4       0.83      0.79      0.81        38\n",
            "           5       0.86      0.88      0.87        56\n",
            "           6       0.70      0.59      0.64        44\n",
            "           7       0.80      0.69      0.74        29\n",
            "           8       0.97      0.88      0.93        42\n",
            "\n",
            "    accuracy                           0.73       400\n",
            "   macro avg       0.74      0.72      0.73       400\n",
            "weighted avg       0.73      0.72      0.73       400\n",
            "\n"
          ]
        }
      ],
      "source": [
        "lr_model_tfidf = LogisticRegression(max_iter = 1000)\n",
        "lr_model_tfidf.fit(tfidf_vec_train, Y_train)\n",
        "preds = lr_model_tfidf.predict(tfidf_vec_test)\n",
        "report_lr = classification_report(Y_test, preds, output_dict = True)\n",
        "print(classification_report(Y_test, preds))\n",
        "\n",
        "classifier_scores = classifier_scores.append({'classifier' : 'LogisticRegression - TFIDF',\n",
        "                          'accuracy' : accuracy_score(Y_test, preds),\n",
        "                          'precision' : precision_score(Y_test, preds, average='weighted'),\n",
        "                          'recall' : recall_score(Y_test, preds, average='weighted'),\n",
        "                          'f1_score' : f1_score(Y_test, preds, average='weighted')}, ignore_index=True)"
      ]
    },
    {
      "cell_type": "markdown",
      "metadata": {
        "id": "2FunIc26vwxk"
      },
      "source": [
        "## SVC Classifier \n",
        "\n",
        "with  One-hot vectorization "
      ]
    },
    {
      "cell_type": "code",
      "execution_count": 194,
      "metadata": {
        "colab": {
          "base_uri": "https://localhost:8080/"
        },
        "id": "IosfJAUZ0p7I",
        "outputId": "470a44fb-35be-400a-f248-f9911334c1fb"
      },
      "outputs": [
        {
          "output_type": "stream",
          "name": "stdout",
          "text": [
            "              precision    recall  f1-score   support\n",
            "\n",
            "           0       0.28      0.69      0.40        48\n",
            "           1       0.60      0.26      0.36        47\n",
            "           2       0.70      0.73      0.72        52\n",
            "           3       0.58      0.57      0.57        44\n",
            "           4       0.91      0.79      0.85        38\n",
            "           5       0.93      0.71      0.81        56\n",
            "           6       0.80      0.45      0.58        44\n",
            "           7       0.65      0.69      0.67        29\n",
            "           8       0.97      0.79      0.87        42\n",
            "\n",
            "    accuracy                           0.63       400\n",
            "   macro avg       0.71      0.63      0.65       400\n",
            "weighted avg       0.71      0.63      0.64       400\n",
            "\n"
          ]
        }
      ],
      "source": [
        "svc_tfidf_model = SVC(kernel='rbf')\n",
        "svc_tfidf_model.fit(OHV_train, Y_train)\n",
        "preds = svc_tfidf_model.predict(OHV_test)\n",
        "print(classification_report(Y_test, preds))\n",
        "\n",
        "classifier_scores = classifier_scores.append({'classifier' : 'SVC(rbf)',\n",
        "                          'accuracy' : accuracy_score(Y_test, preds),\n",
        "                          'precision' : precision_score(Y_test, preds, average='weighted'),\n",
        "                          'recall' : recall_score(Y_test, preds, average='weighted'),\n",
        "                          'f1_score' : f1_score(Y_test, preds, average='weighted')}, ignore_index=True)"
      ]
    },
    {
      "cell_type": "markdown",
      "metadata": {
        "id": "r8jHwwDWFuRV"
      },
      "source": [
        "### Comparison of performance of all models "
      ]
    },
    {
      "cell_type": "code",
      "execution_count": 195,
      "metadata": {
        "colab": {
          "base_uri": "https://localhost:8080/",
          "height": 206
        },
        "id": "CNFiQ4ZSFomN",
        "outputId": "cb5f3b0b-6a45-44bb-a7a0-a4639af3a6fe"
      },
      "outputs": [
        {
          "output_type": "execute_result",
          "data": {
            "text/plain": [
              "<pandas.io.formats.style.Styler at 0x7ff391cb73d0>"
            ],
            "text/html": [
              "<style type=\"text/css\">\n",
              "#T_97a61_row2_col0, #T_97a61_row2_col1, #T_97a61_row2_col2, #T_97a61_row2_col3, #T_97a61_row2_col4 {\n",
              "  background-color: yellow;\n",
              "}\n",
              "</style>\n",
              "<table id=\"T_97a61_\" class=\"dataframe\">\n",
              "  <thead>\n",
              "    <tr>\n",
              "      <th class=\"blank level0\" >&nbsp;</th>\n",
              "      <th class=\"col_heading level0 col0\" >classifier</th>\n",
              "      <th class=\"col_heading level0 col1\" >accuracy</th>\n",
              "      <th class=\"col_heading level0 col2\" >precision</th>\n",
              "      <th class=\"col_heading level0 col3\" >recall</th>\n",
              "      <th class=\"col_heading level0 col4\" >f1_score</th>\n",
              "    </tr>\n",
              "  </thead>\n",
              "  <tbody>\n",
              "    <tr>\n",
              "      <th id=\"T_97a61_level0_row0\" class=\"row_heading level0 row0\" >0</th>\n",
              "      <td id=\"T_97a61_row0_col0\" class=\"data row0 col0\" >Dummy_classifier_Most_frequent</td>\n",
              "      <td id=\"T_97a61_row0_col1\" class=\"data row0 col1\" >0.105000</td>\n",
              "      <td id=\"T_97a61_row0_col2\" class=\"data row0 col2\" >0.011025</td>\n",
              "      <td id=\"T_97a61_row0_col3\" class=\"data row0 col3\" >0.105000</td>\n",
              "      <td id=\"T_97a61_row0_col4\" class=\"data row0 col4\" >0.019955</td>\n",
              "    </tr>\n",
              "    <tr>\n",
              "      <th id=\"T_97a61_level0_row1\" class=\"row_heading level0 row1\" >1</th>\n",
              "      <td id=\"T_97a61_row1_col0\" class=\"data row1 col0\" >Dummy_classifier_stratified</td>\n",
              "      <td id=\"T_97a61_row1_col1\" class=\"data row1 col1\" >0.130000</td>\n",
              "      <td id=\"T_97a61_row1_col2\" class=\"data row1 col2\" >0.126524</td>\n",
              "      <td id=\"T_97a61_row1_col3\" class=\"data row1 col3\" >0.130000</td>\n",
              "      <td id=\"T_97a61_row1_col4\" class=\"data row1 col4\" >0.126329</td>\n",
              "    </tr>\n",
              "    <tr>\n",
              "      <th id=\"T_97a61_level0_row2\" class=\"row_heading level0 row2\" >2</th>\n",
              "      <td id=\"T_97a61_row2_col0\" class=\"data row2 col0\" >LogisticRegression - One Hot Vector</td>\n",
              "      <td id=\"T_97a61_row2_col1\" class=\"data row2 col1\" >0.737500</td>\n",
              "      <td id=\"T_97a61_row2_col2\" class=\"data row2 col2\" >0.748216</td>\n",
              "      <td id=\"T_97a61_row2_col3\" class=\"data row2 col3\" >0.737500</td>\n",
              "      <td id=\"T_97a61_row2_col4\" class=\"data row2 col4\" >0.739054</td>\n",
              "    </tr>\n",
              "    <tr>\n",
              "      <th id=\"T_97a61_level0_row3\" class=\"row_heading level0 row3\" >3</th>\n",
              "      <td id=\"T_97a61_row3_col0\" class=\"data row3 col0\" >LogisticRegression - TFIDF</td>\n",
              "      <td id=\"T_97a61_row3_col1\" class=\"data row3 col1\" >0.725000</td>\n",
              "      <td id=\"T_97a61_row3_col2\" class=\"data row3 col2\" >0.730800</td>\n",
              "      <td id=\"T_97a61_row3_col3\" class=\"data row3 col3\" >0.725000</td>\n",
              "      <td id=\"T_97a61_row3_col4\" class=\"data row3 col4\" >0.725273</td>\n",
              "    </tr>\n",
              "    <tr>\n",
              "      <th id=\"T_97a61_level0_row4\" class=\"row_heading level0 row4\" >4</th>\n",
              "      <td id=\"T_97a61_row4_col0\" class=\"data row4 col0\" >SVC(rbf)</td>\n",
              "      <td id=\"T_97a61_row4_col1\" class=\"data row4 col1\" >0.627500</td>\n",
              "      <td id=\"T_97a61_row4_col2\" class=\"data row4 col2\" >0.713063</td>\n",
              "      <td id=\"T_97a61_row4_col3\" class=\"data row4 col3\" >0.627500</td>\n",
              "      <td id=\"T_97a61_row4_col4\" class=\"data row4 col4\" >0.643214</td>\n",
              "    </tr>\n",
              "  </tbody>\n",
              "</table>\n"
            ]
          },
          "metadata": {},
          "execution_count": 195
        }
      ],
      "source": [
        "def highlight_max(s, threshold, column):\n",
        "    is_max = pd.Series(data=False, index=s.index)\n",
        "    is_max[column] = s.loc[column] >= threshold\n",
        "    return ['background-color: yellow'if is_max.any() else''for v in is_max]\n",
        "\n",
        "classifier_scores.style.apply(highlight_max, threshold=classifier_scores['f1_score'].max(), column=['f1_score'], axis=1)"
      ]
    },
    {
      "cell_type": "markdown",
      "source": [
        "### F1 Score for DIfferent labels"
      ],
      "metadata": {
        "id": "b4jnC2QxwTfz"
      }
    },
    {
      "cell_type": "code",
      "execution_count": 196,
      "metadata": {
        "colab": {
          "base_uri": "https://localhost:8080/",
          "height": 280
        },
        "id": "V7RTrs0Qhixm",
        "outputId": "4ab1f999-85ef-4a6c-cb0c-5a304dde1793"
      },
      "outputs": [
        {
          "output_type": "execute_result",
          "data": {
            "text/plain": [
              "<matplotlib.axes._subplots.AxesSubplot at 0x7ff391cd4250>"
            ]
          },
          "metadata": {},
          "execution_count": 196
        },
        {
          "output_type": "display_data",
          "data": {
            "text/plain": [
              "<Figure size 432x288 with 1 Axes>"
            ],
            "image/png": "[encoded data removed]"
          },
          "metadata": {
            "needs_background": "light"
          }
        }
      ],
      "source": [
        "df_lr = pd.DataFrame(report_lr).transpose()\n",
        "df_lr[:-3][\"f1-score\"].plot.bar()"
      ]
    },
    {
      "cell_type": "markdown",
      "metadata": {
        "id": "YBMJdw_j_8fx"
      },
      "source": [
        "### Q1c:\n",
        "Choose your own classifier/tokenization/normalisations approach, and report on its performance with respect to the five previous ones on the test set.\n",
        "You should describe your selected classifier and vectorization approach including a justification for its appropriateness."
      ]
    },
    {
      "cell_type": "code",
      "execution_count": 197,
      "metadata": {
        "colab": {
          "base_uri": "https://localhost:8080/"
        },
        "id": "Oq-OF2MfXMw1",
        "outputId": "1c2d0399-1af1-42eb-cacd-9227344514df"
      },
      "outputs": [
        {
          "output_type": "stream",
          "name": "stdout",
          "text": [
            "              precision    recall  f1-score   support\n",
            "\n",
            "           0       0.67      0.54      0.60        48\n",
            "           1       0.57      0.55      0.56        47\n",
            "           2       0.75      0.81      0.78        52\n",
            "           3       0.94      0.73      0.82        44\n",
            "           4       0.71      0.92      0.80        38\n",
            "           5       0.86      0.88      0.87        56\n",
            "           6       0.67      0.70      0.69        44\n",
            "           7       0.85      0.76      0.80        29\n",
            "           8       0.81      0.90      0.85        42\n",
            "\n",
            "    accuracy                           0.75       400\n",
            "   macro avg       0.76      0.75      0.75       400\n",
            "weighted avg       0.76      0.75      0.75       400\n",
            "\n"
          ]
        }
      ],
      "source": [
        "from sklearn.linear_model import SGDClassifier\n",
        "\n",
        "sgd = SGDClassifier()\n",
        "sgd.fit(tfidf_vec_train.toarray(), Y_train)\n",
        "preds = sgd.predict(tfidf_vec_test.toarray())\n",
        "print(classification_report(Y_test, preds))\n",
        "\n",
        "classifier_scores = classifier_scores.append({'classifier' : 'SGDClassifier',\n",
        "                          'accuracy' : accuracy_score(Y_test, preds),\n",
        "                          'precision' : precision_score(Y_test, preds, average='weighted'),\n",
        "                          'recall' : recall_score(Y_test, preds, average='weighted'),\n",
        "                          'f1_score' : f1_score(Y_test, preds, average='weighted')}, ignore_index=True)"
      ]
    },
    {
      "cell_type": "markdown",
      "metadata": {
        "id": "4PiMM7r2xOUp"
      },
      "source": [
        "Function that returns the best performing model"
      ]
    },
    {
      "cell_type": "code",
      "execution_count": 198,
      "metadata": {
        "colab": {
          "base_uri": "https://localhost:8080/",
          "height": 238
        },
        "id": "1kZRIX-jOEka",
        "outputId": "339651fc-5f9f-4cc8-c1e8-c044edf032a4"
      },
      "outputs": [
        {
          "output_type": "execute_result",
          "data": {
            "text/plain": [
              "<pandas.io.formats.style.Styler at 0x7ff391c85f50>"
            ],
            "text/html": [
              "<style type=\"text/css\">\n",
              "#T_d3eb5_row5_col0, #T_d3eb5_row5_col1, #T_d3eb5_row5_col2, #T_d3eb5_row5_col3, #T_d3eb5_row5_col4 {\n",
              "  background-color: yellow;\n",
              "}\n",
              "</style>\n",
              "<table id=\"T_d3eb5_\" class=\"dataframe\">\n",
              "  <thead>\n",
              "    <tr>\n",
              "      <th class=\"blank level0\" >&nbsp;</th>\n",
              "      <th class=\"col_heading level0 col0\" >classifier</th>\n",
              "      <th class=\"col_heading level0 col1\" >accuracy</th>\n",
              "      <th class=\"col_heading level0 col2\" >precision</th>\n",
              "      <th class=\"col_heading level0 col3\" >recall</th>\n",
              "      <th class=\"col_heading level0 col4\" >f1_score</th>\n",
              "    </tr>\n",
              "  </thead>\n",
              "  <tbody>\n",
              "    <tr>\n",
              "      <th id=\"T_d3eb5_level0_row0\" class=\"row_heading level0 row0\" >0</th>\n",
              "      <td id=\"T_d3eb5_row0_col0\" class=\"data row0 col0\" >Dummy_classifier_Most_frequent</td>\n",
              "      <td id=\"T_d3eb5_row0_col1\" class=\"data row0 col1\" >0.105000</td>\n",
              "      <td id=\"T_d3eb5_row0_col2\" class=\"data row0 col2\" >0.011025</td>\n",
              "      <td id=\"T_d3eb5_row0_col3\" class=\"data row0 col3\" >0.105000</td>\n",
              "      <td id=\"T_d3eb5_row0_col4\" class=\"data row0 col4\" >0.019955</td>\n",
              "    </tr>\n",
              "    <tr>\n",
              "      <th id=\"T_d3eb5_level0_row1\" class=\"row_heading level0 row1\" >1</th>\n",
              "      <td id=\"T_d3eb5_row1_col0\" class=\"data row1 col0\" >Dummy_classifier_stratified</td>\n",
              "      <td id=\"T_d3eb5_row1_col1\" class=\"data row1 col1\" >0.130000</td>\n",
              "      <td id=\"T_d3eb5_row1_col2\" class=\"data row1 col2\" >0.126524</td>\n",
              "      <td id=\"T_d3eb5_row1_col3\" class=\"data row1 col3\" >0.130000</td>\n",
              "      <td id=\"T_d3eb5_row1_col4\" class=\"data row1 col4\" >0.126329</td>\n",
              "    </tr>\n",
              "    <tr>\n",
              "      <th id=\"T_d3eb5_level0_row2\" class=\"row_heading level0 row2\" >2</th>\n",
              "      <td id=\"T_d3eb5_row2_col0\" class=\"data row2 col0\" >LogisticRegression - One Hot Vector</td>\n",
              "      <td id=\"T_d3eb5_row2_col1\" class=\"data row2 col1\" >0.737500</td>\n",
              "      <td id=\"T_d3eb5_row2_col2\" class=\"data row2 col2\" >0.748216</td>\n",
              "      <td id=\"T_d3eb5_row2_col3\" class=\"data row2 col3\" >0.737500</td>\n",
              "      <td id=\"T_d3eb5_row2_col4\" class=\"data row2 col4\" >0.739054</td>\n",
              "    </tr>\n",
              "    <tr>\n",
              "      <th id=\"T_d3eb5_level0_row3\" class=\"row_heading level0 row3\" >3</th>\n",
              "      <td id=\"T_d3eb5_row3_col0\" class=\"data row3 col0\" >LogisticRegression - TFIDF</td>\n",
              "      <td id=\"T_d3eb5_row3_col1\" class=\"data row3 col1\" >0.725000</td>\n",
              "      <td id=\"T_d3eb5_row3_col2\" class=\"data row3 col2\" >0.730800</td>\n",
              "      <td id=\"T_d3eb5_row3_col3\" class=\"data row3 col3\" >0.725000</td>\n",
              "      <td id=\"T_d3eb5_row3_col4\" class=\"data row3 col4\" >0.725273</td>\n",
              "    </tr>\n",
              "    <tr>\n",
              "      <th id=\"T_d3eb5_level0_row4\" class=\"row_heading level0 row4\" >4</th>\n",
              "      <td id=\"T_d3eb5_row4_col0\" class=\"data row4 col0\" >SVC(rbf)</td>\n",
              "      <td id=\"T_d3eb5_row4_col1\" class=\"data row4 col1\" >0.627500</td>\n",
              "      <td id=\"T_d3eb5_row4_col2\" class=\"data row4 col2\" >0.713063</td>\n",
              "      <td id=\"T_d3eb5_row4_col3\" class=\"data row4 col3\" >0.627500</td>\n",
              "      <td id=\"T_d3eb5_row4_col4\" class=\"data row4 col4\" >0.643214</td>\n",
              "    </tr>\n",
              "    <tr>\n",
              "      <th id=\"T_d3eb5_level0_row5\" class=\"row_heading level0 row5\" >5</th>\n",
              "      <td id=\"T_d3eb5_row5_col0\" class=\"data row5 col0\" >SGDClassifier</td>\n",
              "      <td id=\"T_d3eb5_row5_col1\" class=\"data row5 col1\" >0.752500</td>\n",
              "      <td id=\"T_d3eb5_row5_col2\" class=\"data row5 col2\" >0.756021</td>\n",
              "      <td id=\"T_d3eb5_row5_col3\" class=\"data row5 col3\" >0.752500</td>\n",
              "      <td id=\"T_d3eb5_row5_col4\" class=\"data row5 col4\" >0.750084</td>\n",
              "    </tr>\n",
              "  </tbody>\n",
              "</table>\n"
            ]
          },
          "metadata": {},
          "execution_count": 198
        }
      ],
      "source": [
        "classifier_scores.style.apply(highlight_max, threshold=classifier_scores['f1_score'].max(), column=['f1_score'], axis=1)"
      ]
    },
    {
      "cell_type": "markdown",
      "metadata": {
        "id": "zZcRes8WAOo6"
      },
      "source": [
        "## Q2: Tuning and Error Analysis\n",
        "\n",
        "In this task you will improve the effectiveness of the LogisticRegression with TF-IDF vectorization from Q1. \n",
        "\n",
        "### Q2a:\n",
        "\n",
        "**Parameter** tuning - Tune the parameters for both the vectorizer and classifier on the validation set (or using CV-fold validation on the train).\n",
        "\n",
        "* Classifier - Regularisation C value (typical values might be powers of 10 (from 10^-3 to 10^5)\n",
        "* Vectorizer - Parameters: sublinear_tf and max_features (vocabulary size) (in a range None to 50k)\n",
        "*  Select another parameter of your choice from the classifier or vectorizer"
      ]
    },
    {
      "cell_type": "code",
      "execution_count": 199,
      "metadata": {
        "colab": {
          "base_uri": "https://localhost:8080/"
        },
        "id": "C62EVZDapjVe",
        "outputId": "caa953e2-b70a-43c9-f568-c525f63e2552"
      },
      "outputs": [
        {
          "output_type": "stream",
          "name": "stdout",
          "text": [
            "Fitting 3 folds for each of 160 candidates, totalling 480 fits\n",
            "Best parameter (CV score=0.765):\n",
            "{'lr__C': 100, 'lr__class_weight': 'balanced', 'tfidf__max_features': None, 'tfidf__ngram_range': (1, 2), 'tfidf__sublinear_tf': True}\n"
          ]
        }
      ],
      "source": [
        "from sklearn.pipeline import Pipeline\n",
        "\n",
        "pipe = Pipeline(steps=[('tfidf', TfidfVectorizer()), ('lr', LogisticRegression(max_iter = 1000))])\n",
        "\n",
        " \n",
        "\n",
        "param_grid = {\n",
        "    'tfidf__sublinear_tf': [True, False],\n",
        "    'tfidf__max_features': [None, 500, 5000, 50000],\n",
        "    'lr__C': [0.01, 0.1, 100, 1000, 10000],\n",
        "    'lr__class_weight': [None, 'balanced'],\n",
        "    'tfidf__ngram_range': [(1,1), (1,2)]\n",
        "}\n",
        "\n",
        "search = GridSearchCV(pipe, param_grid, cv=3, scoring='accuracy', n_jobs=-1, verbose=3)\n",
        "search.fit(X_train_tokenized, Y_train)\n",
        "print(\"Best parameter (CV score=%0.3f):\" % search.best_score_)\n",
        "print(search.best_params_)"
      ]
    },
    {
      "cell_type": "code",
      "execution_count": 200,
      "metadata": {
        "colab": {
          "base_uri": "https://localhost:8080/"
        },
        "id": "rW7_eOJjijsQ",
        "outputId": "9440cac5-953b-4a38-d058-c0341fb09d2e"
      },
      "outputs": [
        {
          "output_type": "execute_result",
          "data": {
            "text/plain": [
              "LogisticRegression(C=100, class_weight='balanced', max_iter=1000)"
            ]
          },
          "metadata": {},
          "execution_count": 200
        }
      ],
      "source": [
        "tfidf_transformer = TfidfVectorizer(max_features=None, ngram_range=(1,2), sublinear_tf=True)\n",
        "tfidf_transformer.fit(X_train_tokenized)\n",
        "\n",
        "X_train_tfidf = tfidf_transformer.transform(X_train_tokenized)\n",
        "\n",
        "lr_model = LogisticRegression(C=100, class_weight='balanced', max_iter=1000)\n",
        "lr_model.fit(X_train_tfidf, Y_train)"
      ]
    },
    {
      "cell_type": "markdown",
      "metadata": {
        "id": "pIsRTiW-ABs8"
      },
      "source": [
        "### Q2b:\n",
        "\n",
        "Error analysis - Manually examine the predictions of your optimised classifier on the test set.  Analyse the results for patterns and trends.  Hypothesise why common classification errors are made.  Report on your error analysis process and summarise your findings. "
      ]
    },
    {
      "cell_type": "code",
      "execution_count": 201,
      "metadata": {
        "colab": {
          "base_uri": "https://localhost:8080/"
        },
        "id": "L1y-s_V9GEzI",
        "outputId": "6c292e27-868e-421e-beaa-7f580bfad86d"
      },
      "outputs": [
        {
          "output_type": "stream",
          "name": "stdout",
          "text": [
            "              precision    recall  f1-score   support\n",
            "\n",
            "           0       0.37      0.79      0.50        48\n",
            "           1       0.71      0.36      0.48        47\n",
            "           2       0.83      0.65      0.73        52\n",
            "           3       0.86      0.73      0.79        44\n",
            "           4       0.94      0.84      0.89        38\n",
            "           5       0.91      0.89      0.90        56\n",
            "           6       0.86      0.68      0.76        44\n",
            "           7       0.83      0.86      0.85        29\n",
            "           8       0.93      0.88      0.90        42\n",
            "\n",
            "    accuracy                           0.74       400\n",
            "   macro avg       0.80      0.74      0.76       400\n",
            "weighted avg       0.80      0.74      0.75       400\n",
            "\n"
          ]
        }
      ],
      "source": [
        "X_test_transformed = tfidf_transformer.transform(X_test)\n",
        "\n",
        "preds = lr_model.predict(X_test_transformed)\n",
        "print(classification_report(Y_test, preds))\n"
      ]
    },
    {
      "cell_type": "markdown",
      "metadata": {
        "id": "BWs7YqOOAbLp"
      },
      "source": [
        "## Q3: Feature Engineering \n",
        "\n",
        "In this task your goal is to add two features to (try to) improve subreddit classification performance obtained in Q2.\n",
        "You must implement and describe two new classifier features and add them to the tuned model from Q2. Examples include adding other properties of the posts, leveraging embedding-based features, different vectorization approaches, etc, (This is your chance to be creative!). As before, report the results in terms of evaluation metrics on the test data. Additionally, include a well-labelled confusion matrix and discuss the result in reference to Q2 and what helped (or didn’t) and why you think so. In summary: \n"
      ]
    },
    {
      "cell_type": "markdown",
      "metadata": {
        "id": "lOpWB9pMAcri"
      },
      "source": [
        "### Q3a:\n",
        "Propose two features of your own, along with your rationale behind your choice. "
      ]
    },
    {
      "cell_type": "code",
      "execution_count": 202,
      "metadata": {
        "id": "GIgQBrDMiFiu"
      },
      "outputs": [],
      "source": [
        "train_data['post_length'] = [len(x) for x in train_data['body']]\n",
        "test_data['post_length'] = [len(x) for x in test_data['body']]\n",
        "validation_data['post_length'] = [len(x) for x in validation_data['body']]"
      ]
    },
    {
      "cell_type": "code",
      "execution_count": 203,
      "metadata": {
        "colab": {
          "base_uri": "https://localhost:8080/",
          "height": 206
        },
        "id": "O7q2E2WbwTjP",
        "outputId": "ebbddf62-c0c7-4504-c38a-63184a34545f"
      },
      "outputs": [
        {
          "output_type": "execute_result",
          "data": {
            "text/plain": [
              "        subreddit                                              title  score  \\\n",
              "0             PS4  Can I get banned for having a game that I didn...      0   \n",
              "1        pcgaming      How to get a Kinect sensor to work with a PC?      0   \n",
              "2  NintendoSwitch               Switch Only Charges with GoPro Cable      5   \n",
              "3         antiMLM                   L’Occitane going down MLM route?     15   \n",
              "4     HydroHomies                              Guys i need your help      2   \n",
              "\n",
              "       id           author                                               body  \\\n",
              "0  queqfu          XC-XERZ  Long story short, I saw ESO in my library, dow...   \n",
              "1  1eujoa      ZachTheKing  I have seen a video online where someone took ...   \n",
              "2  m00bx7  BluePenguin2002  Hi, hope this is the right place/way to post t...   \n",
              "3  q13pvx  100fluffyclouds  After buying a majority share in Limelight/Alc...   \n",
              "4  rxiv2g   Epicskeleton53  Is it ok for me to drink coffee in the morning...   \n",
              "\n",
              "   labels  post_length  \n",
              "0       0          161  \n",
              "1       1          242  \n",
              "2       2          727  \n",
              "3       3          131  \n",
              "4       4          100  "
            ],
            "text/html": [
              "\n",
              "  <div id=\"df-caf67b80-14c9-4778-b211-30f9d3441f65\">\n",
              "    <div class=\"colab-df-container\">\n",
              "      <div>\n",
              "<style scoped>\n",
              "    .dataframe tbody tr th:only-of-type {\n",
              "        vertical-align: middle;\n",
              "    }\n",
              "\n",
              "    .dataframe tbody tr th {\n",
              "        vertical-align: top;\n",
              "    }\n",
              "\n",
              "    .dataframe thead th {\n",
              "        text-align: right;\n",
              "    }\n",
              "</style>\n",
              "<table border=\"1\" class=\"dataframe\">\n",
              "  <thead>\n",
              "    <tr style=\"text-align: right;\">\n",
              "      <th></th>\n",
              "      <th>subreddit</th>\n",
              "      <th>title</th>\n",
              "      <th>score</th>\n",
              "      <th>id</th>\n",
              "      <th>author</th>\n",
              "      <th>body</th>\n",
              "      <th>labels</th>\n",
              "      <th>post_length</th>\n",
              "    </tr>\n",
              "  </thead>\n",
              "  <tbody>\n",
              "    <tr>\n",
              "      <th>0</th>\n",
              "      <td>PS4</td>\n",
              "      <td>Can I get banned for having a game that I didn...</td>\n",
              "      <td>0</td>\n",
              "      <td>queqfu</td>\n",
              "      <td>XC-XERZ</td>\n",
              "      <td>Long story short, I saw ESO in my library, dow...</td>\n",
              "      <td>0</td>\n",
              "      <td>161</td>\n",
              "    </tr>\n",
              "    <tr>\n",
              "      <th>1</th>\n",
              "      <td>pcgaming</td>\n",
              "      <td>How to get a Kinect sensor to work with a PC?</td>\n",
              "      <td>0</td>\n",
              "      <td>1eujoa</td>\n",
              "      <td>ZachTheKing</td>\n",
              "      <td>I have seen a video online where someone took ...</td>\n",
              "      <td>1</td>\n",
              "      <td>242</td>\n",
              "    </tr>\n",
              "    <tr>\n",
              "      <th>2</th>\n",
              "      <td>NintendoSwitch</td>\n",
              "      <td>Switch Only Charges with GoPro Cable</td>\n",
              "      <td>5</td>\n",
              "      <td>m00bx7</td>\n",
              "      <td>BluePenguin2002</td>\n",
              "      <td>Hi, hope this is the right place/way to post t...</td>\n",
              "      <td>2</td>\n",
              "      <td>727</td>\n",
              "    </tr>\n",
              "    <tr>\n",
              "      <th>3</th>\n",
              "      <td>antiMLM</td>\n",
              "      <td>L’Occitane going down MLM route?</td>\n",
              "      <td>15</td>\n",
              "      <td>q13pvx</td>\n",
              "      <td>100fluffyclouds</td>\n",
              "      <td>After buying a majority share in Limelight/Alc...</td>\n",
              "      <td>3</td>\n",
              "      <td>131</td>\n",
              "    </tr>\n",
              "    <tr>\n",
              "      <th>4</th>\n",
              "      <td>HydroHomies</td>\n",
              "      <td>Guys i need your help</td>\n",
              "      <td>2</td>\n",
              "      <td>rxiv2g</td>\n",
              "      <td>Epicskeleton53</td>\n",
              "      <td>Is it ok for me to drink coffee in the morning...</td>\n",
              "      <td>4</td>\n",
              "      <td>100</td>\n",
              "    </tr>\n",
              "  </tbody>\n",
              "</table>\n",
              "</div>\n",
              "      <button class=\"colab-df-convert\" onclick=\"convertToInteractive('df-caf67b80-14c9-4778-b211-30f9d3441f65')\"\n",
              "              title=\"Convert this dataframe to an interactive table.\"\n",
              "              style=\"display:none;\">\n",
              "        \n",
              "  <svg xmlns=\"http://www.w3.org/2000/svg\" height=\"24px\"viewBox=\"0 0 24 24\"\n",
              "       width=\"24px\">\n",
              "    <path d=\"M0 0h24v24H0V0z\" fill=\"none\"/>\n",
              "    <path d=\"M18.56 5.44l.94 2.06.94-2.06 2.06-.94-2.06-.94-.94-2.06-.94 2.06-2.06.94zm-11 1L8.5 8.5l.94-2.06 2.06-.94-2.06-.94L8.5 2.5l-.94 2.06-2.06.94zm10 10l.94 2.06.94-2.06 2.06-.94-2.06-.94-.94-2.06-.94 2.06-2.06.94z\"/><path d=\"M17.41 7.96l-1.37-1.37c-.4-.4-.92-.59-1.43-.59-.52 0-1.04.2-1.43.59L10.3 9.45l-7.72 7.72c-.78.78-.78 2.05 0 2.83L4 21.41c.39.39.9.59 1.41.59.51 0 1.02-.2 1.41-.59l7.78-7.78 2.81-2.81c.8-.78.8-2.07 0-2.86zM5.41 20L4 18.59l7.72-7.72 1.47 1.35L5.41 20z\"/>\n",
              "  </svg>\n",
              "      </button>\n",
              "      \n",
              "  <style>\n",
              "    .colab-df-container {\n",
              "      display:flex;\n",
              "      flex-wrap:wrap;\n",
              "      gap: 12px;\n",
              "    }\n",
              "\n",
              "    .colab-df-convert {\n",
              "      background-color: #E8F0FE;\n",
              "      border: none;\n",
              "      border-radius: 50%;\n",
              "      cursor: pointer;\n",
              "      display: none;\n",
              "      fill: #1967D2;\n",
              "      height: 32px;\n",
              "      padding: 0 0 0 0;\n",
              "      width: 32px;\n",
              "    }\n",
              "\n",
              "    .colab-df-convert:hover {\n",
              "      background-color: #E2EBFA;\n",
              "      box-shadow: 0px 1px 2px rgba(60, 64, 67, 0.3), 0px 1px 3px 1px rgba(60, 64, 67, 0.15);\n",
              "      fill: #174EA6;\n",
              "    }\n",
              "\n",
              "    [theme=dark] .colab-df-convert {\n",
              "      background-color: #3B4455;\n",
              "      fill: #D2E3FC;\n",
              "    }\n",
              "\n",
              "    [theme=dark] .colab-df-convert:hover {\n",
              "      background-color: #434B5C;\n",
              "      box-shadow: 0px 1px 3px 1px rgba(0, 0, 0, 0.15);\n",
              "      filter: drop-shadow(0px 1px 2px rgba(0, 0, 0, 0.3));\n",
              "      fill: #FFFFFF;\n",
              "    }\n",
              "  </style>\n",
              "\n",
              "      <script>\n",
              "        const buttonEl =\n",
              "          document.querySelector('#df-caf67b80-14c9-4778-b211-30f9d3441f65 button.colab-df-convert');\n",
              "        buttonEl.style.display =\n",
              "          google.colab.kernel.accessAllowed ? 'block' : 'none';\n",
              "\n",
              "        async function convertToInteractive(key) {\n",
              "          const element = document.querySelector('#df-caf67b80-14c9-4778-b211-30f9d3441f65');\n",
              "          const dataTable =\n",
              "            await google.colab.kernel.invokeFunction('convertToInteractive',\n",
              "                                                     [key], {});\n",
              "          if (!dataTable) return;\n",
              "\n",
              "          const docLinkHtml = 'Like what you see? Visit the ' +\n",
              "            '<a target=\"_blank\" href=https://colab.research.google.com/notebooks/data_table.ipynb>data table notebook</a>'\n",
              "            + ' to learn more about interactive tables.';\n",
              "          element.innerHTML = '';\n",
              "          dataTable['output_type'] = 'display_data';\n",
              "          await google.colab.output.renderOutput(dataTable, element);\n",
              "          const docLink = document.createElement('div');\n",
              "          docLink.innerHTML = docLinkHtml;\n",
              "          element.appendChild(docLink);\n",
              "        }\n",
              "      </script>\n",
              "    </div>\n",
              "  </div>\n",
              "  "
            ]
          },
          "metadata": {},
          "execution_count": 203
        }
      ],
      "source": [
        "train_data.head()"
      ]
    },
    {
      "cell_type": "code",
      "source": [
        "X_train_combined = [ text_pipeline_spacy(x) for x in train_data['body'] + ' ' +train_data['title'] ]\n",
        "X_test_combined = [ text_pipeline_spacy(x) for x in test_data['body'] + ' ' +test_data['title'] ]\n",
        "X_validation_combined = [ text_pipeline_spacy(x) for x in validation_data['body'] + ' ' +validation_data['title'] ]"
      ],
      "metadata": {
        "id": "ob4Bie13b8bN"
      },
      "execution_count": 204,
      "outputs": []
    },
    {
      "cell_type": "markdown",
      "metadata": {
        "id": "ymz5BE7NAgZM"
      },
      "source": [
        "### Q3b:\n",
        "Train, validate and test models that incorporate combinations of your features, and briefly report on the evaluation metrics "
      ]
    },
    {
      "cell_type": "code",
      "execution_count": 205,
      "metadata": {
        "colab": {
          "base_uri": "https://localhost:8080/"
        },
        "id": "xfTGUtU9ic8o",
        "outputId": "8b41b648-3b8c-4c81-8188-6ce4d1c924d0"
      },
      "outputs": [
        {
          "output_type": "execute_result",
          "data": {
            "text/plain": [
              "array([[0., 0., 0., ..., 0., 0., 0.],\n",
              "       [0., 0., 0., ..., 0., 0., 0.],\n",
              "       [0., 0., 0., ..., 0., 0., 0.],\n",
              "       ...,\n",
              "       [0., 0., 0., ..., 0., 0., 0.],\n",
              "       [0., 0., 0., ..., 0., 0., 0.],\n",
              "       [0., 0., 0., ..., 0., 0., 0.]])"
            ]
          },
          "metadata": {},
          "execution_count": 205
        }
      ],
      "source": [
        "tfidf_transformer_final = TfidfVectorizer(max_features=None, ngram_range=(1,2), sublinear_tf=True)\n",
        "tfidf_transformer_final.fit(X_train_combined)\n",
        "\n",
        "X_train_combined = tfidf_transformer_final.transform(X_train_combined)\n",
        "X_test_combined = tfidf_transformer_final.transform(X_test_combined)\n",
        "X_validation_combined = tfidf_transformer_final.transform(X_validation_combined)\n",
        "\n",
        "X_train_combined.toarray()"
      ]
    },
    {
      "cell_type": "code",
      "execution_count": 206,
      "metadata": {
        "colab": {
          "base_uri": "https://localhost:8080/"
        },
        "id": "EAREo2L-nknq",
        "outputId": "16b1354d-e932-4943-ed25-8ef2c7eafdca"
      },
      "outputs": [
        {
          "output_type": "execute_result",
          "data": {
            "text/plain": [
              "(1200, 45884)"
            ]
          },
          "metadata": {},
          "execution_count": 206
        }
      ],
      "source": [
        "import numpy as np\n",
        "from scipy import sparse\n",
        "from sklearn.preprocessing import normalize\n",
        "\n",
        "XTRAIN = np.append( X_train_combined.toarray(), np.array(train_data['post_length']).reshape(-1,1),axis=1)\n",
        "XTEST = np.append( X_test_combined.toarray(), np.array(test_data['post_length']).reshape(-1,1),axis=1)\n",
        "XVALIDATION = np.append( X_validation_combined.toarray(), np.array(validation_data['post_length']).reshape(-1,1),axis=1)\n",
        "\n",
        "\n",
        "\n",
        "XTRAIN = sparse.csr_matrix(XTRAIN)\n",
        "\n",
        "\n",
        "XTRAIN.shape\n"
      ]
    },
    {
      "cell_type": "code",
      "execution_count": 207,
      "metadata": {
        "colab": {
          "base_uri": "https://localhost:8080/"
        },
        "id": "BHZO28N-1SpG",
        "outputId": "d23693a1-245e-4519-ab24-3a0220900ce2"
      },
      "outputs": [
        {
          "output_type": "stream",
          "name": "stderr",
          "text": [
            "/usr/local/lib/python3.7/dist-packages/sklearn/linear_model/_logistic.py:818: ConvergenceWarning: lbfgs failed to converge (status=1):\n",
            "STOP: TOTAL NO. of ITERATIONS REACHED LIMIT.\n",
            "\n",
            "Increase the number of iterations (max_iter) or scale the data as shown in:\n",
            "    https://scikit-learn.org/stable/modules/preprocessing.html\n",
            "Please also refer to the documentation for alternative solver options:\n",
            "    https://scikit-learn.org/stable/modules/linear_model.html#logistic-regression\n",
            "  extra_warning_msg=_LOGISTIC_SOLVER_CONVERGENCE_MSG,\n"
          ]
        },
        {
          "output_type": "execute_result",
          "data": {
            "text/plain": [
              "LogisticRegression(C=100, class_weight='balanced', max_iter=1000)"
            ]
          },
          "metadata": {},
          "execution_count": 207
        }
      ],
      "source": [
        "lr_model = LogisticRegression(C=100, class_weight='balanced', max_iter=1000)\n",
        "lr_model.fit(XTRAIN, Y_train)"
      ]
    },
    {
      "cell_type": "code",
      "execution_count": 208,
      "metadata": {
        "id": "Kw62J1tt21Lx"
      },
      "outputs": [],
      "source": [
        "preds = lr_model.predict(XTEST)"
      ]
    },
    {
      "cell_type": "code",
      "execution_count": 209,
      "metadata": {
        "colab": {
          "base_uri": "https://localhost:8080/"
        },
        "id": "7w3Wf4mb4Cke",
        "outputId": "a39db1d8-0dda-41d6-dd59-aee958341fea"
      },
      "outputs": [
        {
          "output_type": "stream",
          "name": "stdout",
          "text": [
            "              precision    recall  f1-score   support\n",
            "\n",
            "           0       0.73      0.77      0.75        48\n",
            "           1       0.69      0.66      0.67        47\n",
            "           2       0.86      0.83      0.84        52\n",
            "           3       0.84      0.86      0.85        44\n",
            "           4       0.89      0.87      0.88        38\n",
            "           5       0.98      0.93      0.95        56\n",
            "           6       0.85      0.89      0.87        44\n",
            "           7       0.87      0.93      0.90        29\n",
            "           8       0.95      0.95      0.95        42\n",
            "\n",
            "    accuracy                           0.85       400\n",
            "   macro avg       0.85      0.85      0.85       400\n",
            "weighted avg       0.85      0.85      0.85       400\n",
            "\n"
          ]
        }
      ],
      "source": [
        "print(classification_report(Y_test, preds))"
      ]
    },
    {
      "cell_type": "markdown",
      "metadata": {
        "id": "NSw1OczAAgb3"
      },
      "source": [
        "### Q3c:\n",
        "Provide performance analysis (intrinsic evaluation metrics) of the model with your proposed features, and discuss   (In your opinion), why did it work / or didn’t work / what could be done to improve (Try to connect it to the lecture material) "
      ]
    }
  ],
  "metadata": {
    "colab": {
      "collapsed_sections": [],
      "name": "2582332b_Colab.ipynb",
      "provenance": []
    },
    "kernelspec": {
      "display_name": "Python 3 (ipykernel)",
      "language": "python",
      "name": "python3"
    },
    "language_info": {
      "codemirror_mode": {
        "name": "ipython",
        "version": 3
      },
      "file_extension": ".py",
      "mimetype": "text/x-python",
      "name": "python",
      "nbconvert_exporter": "python",
      "pygments_lexer": "ipython3",
      "version": "3.7.3"
    }
  },
  "nbformat": 4,
  "nbformat_minor": 0
}